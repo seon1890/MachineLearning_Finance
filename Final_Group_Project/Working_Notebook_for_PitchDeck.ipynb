{
 "cells": [
  {
   "cell_type": "code",
   "execution_count": 1,
   "metadata": {
    "collapsed": true
   },
   "outputs": [],
   "source": [
    "import pandas as pd\n",
    "import numpy as np\n",
    "from pandas.tseries.offsets import DateOffset\n",
    "# read the sample data in\n",
    "data_dir = './data/'\n",
    "df = pd.read_csv(data_dir + \"train.csv\")\n",
    "df = df.drop([\"Unnamed: 0\", \"eqty_corp_family_tot\"], axis=1)"
   ]
  },
  {
   "cell_type": "code",
   "execution_count": 2,
   "metadata": {
    "collapsed": false
   },
   "outputs": [],
   "source": [
    "#1. Date Format:\n",
    "for col in df.columns:\n",
    "    if \"date\" in col:\n",
    "        df[col] = pd.to_datetime(df[col])\n",
    "\n",
    "    if col==\"def_date\":\n",
    "        df[\"def_date\"] = df[\"def_date\"].fillna(pd.Timestamp(\"2099-12-31\"))\n",
    "\n",
    "#2. Generate Labels and drop any future-peeking rows\n",
    "df[\"def_min\"] = df[\"stmt_date\"] + DateOffset(months=3)\n",
    "df[\"def_max\"] = df[\"stmt_date\"] + DateOffset(months=15)\n",
    "df[\"def_in_12mo\"] = 0\n",
    "df[\"def_in_12mo\"] = df[\"def_in_12mo\"].where(\n",
    "    (df[\"def_date\"]<df[\"def_min\"]) | (df[\"def_date\"]>df[\"def_max\"]), 1)\n",
    "# Future peeking rows\n",
    "df = df[~(df[\"def_date\"] < df[\"def_min\"])].drop([\"def_min\", \"def_max\"], axis=1)"
   ]
  },
  {
   "cell_type": "code",
   "execution_count": 3,
   "metadata": {
    "collapsed": false
   },
   "outputs": [],
   "source": [
    "df = df.merge(pd.read_csv(data_dir + \"ateco_code_industry.csv\"), on =\"ateco_sector\", how=\"left\").drop(\"ateco_sector\", axis=1)  \n",
    "  \n"
   ]
  },
  {
   "cell_type": "code",
   "execution_count": 4,
   "metadata": {
    "collapsed": false
   },
   "outputs": [],
   "source": [
    "#3. Filling in NA values:\n",
    "dollar_cols = [col for col in df.columns if col not in [\"HQ_city\", \"INDUSTRY\", \"def_date\", \"fs_year\", \"id\", \"legal_struct\",\n",
    "                                                        \"roa\", \"roe\", \"stmt_date\", \"def_in_12mo\", \"asst_tot\", \"days_rec\"]]\n",
    "num_cols = [\"roa\", \"roe\"]\n",
    "mean_df = pd.DataFrame()\n",
    "for col in dollar_cols:\n",
    "    temp = df.groupby(\"INDUSTRY\", as_index=False).apply(lambda x : (x[col] / x[\"asst_tot\"]).mean())\n",
    "    temp.columns = [\"INDUSTRY\", col]\n",
    "    if mean_df.empty:\n",
    "        mean_df = temp\n",
    "    else:\n",
    "        mean_df = mean_df.merge(temp, on=[\"INDUSTRY\"], how=\"left\")\n",
    "for col in num_cols:\n",
    "    temp = df.groupby(\"INDUSTRY\", as_index=False)[col].mean()\n",
    "    temp.columns = [\"INDUSTRY\", col]\n",
    "    mean_df = mean_df.merge(temp, on=[\"INDUSTRY\"], how=\"left\")\n",
    "\n",
    "#5. FILL NA with industry specific means:\n",
    "for col in dollar_cols:\n",
    "    ind_mean = df[[\"INDUSTRY\"]].merge(mean_df[[\"INDUSTRY\", col]], on=[\"INDUSTRY\"], how=\"left\")[col]\n",
    "    df[col] = df[col].where(~df[col].isnull(), ind_mean * df[\"asst_tot\"])\n",
    "for col in num_cols:\n",
    "    ind_mean = df[[\"INDUSTRY\"]].merge(mean_df[[\"INDUSTRY\", col]], on=[\"INDUSTRY\"], how=\"left\")[col]\n",
    "    df[col] = df[col].where(~df[col].isnull(), ind_mean)\n",
    "\n",
    "#6. Calculate all relevant ratios:\n",
    "df[\"liab_tot\"] = df[\"asst_tot\"] - df[\"eqty_tot\"]\n",
    "dollar_cols.append(\"liab_tot\")"
   ]
  },
  {
   "cell_type": "code",
   "execution_count": 5,
   "metadata": {
    "collapsed": false
   },
   "outputs": [],
   "source": [
    "def _calc_fin_ratio(df):\n",
    "    # Leverage Ratio\n",
    "    out_cols =[\"debt_st_to_eqty_tot\", \n",
    "               \"eqty_tot_to_asst_tot\",\n",
    "               \"debt_st_to_deb_tot\",\n",
    "               \"debt_st_to_ebitda\",\n",
    "               \"liq_curr_ratio\",\n",
    "               \"liq_quick_ratio\",\n",
    "               \"wc_net_to_asst_tot\",\n",
    "               \"asst_tang_fixed_to_asst_tot\",\n",
    "               \"asst_intang_fixed_to_asst_tot\",\n",
    "               \"liq_cfo_ratio\",\n",
    "               \"ebitda_to_asst_tot\",\n",
    "               \"prof_operations_to_asst_tot\",\n",
    "               \"ebitda_to_exp_financing\",\n",
    "               \"AR_to_liab_tot\"]\n",
    "    \n",
    "    df[\"debt_st_to_eqty_tot\"] = (df[\"debt_st\"] / df[\"eqty_tot\"]).where(df[\"debt_st\"]!=0, 0)\n",
    "    df[\"eqty_tot_to_asst_tot\"] = df[\"eqty_tot\"] / df[\"asst_tot\"]\n",
    "    df[\"debt_st_to_deb_tot\"] = (df[\"debt_st\"] / (df[\"debt_st\"] + df[\"debt_lt\"])).where(df[\"debt_st\"]!=0, 0)\n",
    "    df[\"debt_st_to_ebitda\"] = (df[\"debt_st\"] / df[\"ebitda\"]).where(df[\"debt_st\"]!=0, 0)\n",
    "    # Liquidity Ratio\n",
    "    df[\"liq_curr_ratio\"] = (df[\"asst_current\"] / df[\"liab_tot\"]).where(df[\"asst_current\"]!=0, 0) # we don't have current asset or liability\n",
    "    df[\"liq_quick_ratio\"] = ((df[\"cash_and_equiv\"] + df[\"AR\"]) / df[\"liab_tot\"]).where((df[\"cash_and_equiv\"] + df[\"AR\"])!=0, 0)\n",
    "    df[\"wc_net_to_asst_tot\"] = df[\"wc_net\"] / df[\"asst_tot\"]\n",
    "    df[\"asst_tang_fixed_to_asst_tot\"] = df[\"asst_tang_fixed\"] / df[\"asst_tot\"]\n",
    "    df[\"asst_intang_fixed_to_asst_tot\"] = df[\"asst_intang_fixed\"] / df[\"asst_tot\"]\n",
    "    df[\"liq_cfo_ratio\"] = (df[\"cf_operations\"] / df[\"liab_tot\"]).where(df[\"cf_operations\"]!=0, 0)\n",
    "    # Profitability Ratio\n",
    "    df[\"ebitda_to_asst_tot\"] = df[\"ebitda\"] / df[\"asst_tot\"]\n",
    "    df[\"prof_operations_to_asst_tot\"] = df[\"prof_operations\"]/ df[\"asst_tot\"]\n",
    "    # Coverage Ratio\n",
    "    df[\"ebitda_to_exp_financing\"] = (df[\"ebitda\"] / df[\"exp_financing\"]).where(df[\"ebitda\"]!=0, 0)\n",
    "    # Activity Ratio\n",
    "    df[\"AR_to_liab_tot\"] = (df[\"AR\"] / df[\"liab_tot\"]).where(df[\"AR\"]!=0, 0) # we don't have current asset or liability\n",
    "    \n",
    "    # now handle +/- inf situations:\n",
    "    for col in out_cols:\n",
    "        temp_arr = sorted(df[col].unique())\n",
    "        df[col] = np.clip(df[col], a_min=temp_arr[1], a_max=temp_arr[-2])\n",
    "    \n",
    "    return df"
   ]
  },
  {
   "cell_type": "code",
   "execution_count": 6,
   "metadata": {
    "collapsed": false
   },
   "outputs": [],
   "source": [
    "rat_df = _calc_fin_ratio(df)"
   ]
  },
  {
   "cell_type": "code",
   "execution_count": 7,
   "metadata": {
    "collapsed": true
   },
   "outputs": [],
   "source": [
    "def _convert_dollars_to_asset_ratio(df, cols):\n",
    "    for col in cols:\n",
    "        if (col + \"_to_asst_tot\") not in df.columns:\n",
    "            df[col + \"_to_asst_tot\"] = df[col] / df[\"asst_tot\"]\n",
    "    df = df.drop(cols, axis=1)\n",
    "    return df\n",
    "    "
   ]
  },
  {
   "cell_type": "code",
   "execution_count": 8,
   "metadata": {
    "collapsed": false
   },
   "outputs": [],
   "source": [
    "rat_df = _convert_dollars_to_asset_ratio(rat_df, dollar_cols)"
   ]
  },
  {
   "cell_type": "markdown",
   "metadata": {},
   "source": [
    "## Factor Selection"
   ]
  },
  {
   "cell_type": "code",
   "execution_count": 9,
   "metadata": {
    "collapsed": true
   },
   "outputs": [],
   "source": [
    "# 5. Factor Selection, investigation: \n"
   ]
  },
  {
   "cell_type": "code",
   "execution_count": 10,
   "metadata": {
    "collapsed": false
   },
   "outputs": [],
   "source": [
    "corr = rat_df.corr()"
   ]
  },
  {
   "cell_type": "code",
   "execution_count": 11,
   "metadata": {
    "collapsed": false
   },
   "outputs": [
    {
     "data": {
      "text/html": [
       "<div>\n",
       "<style scoped>\n",
       "    .dataframe tbody tr th:only-of-type {\n",
       "        vertical-align: middle;\n",
       "    }\n",
       "\n",
       "    .dataframe tbody tr th {\n",
       "        vertical-align: top;\n",
       "    }\n",
       "\n",
       "    .dataframe thead th {\n",
       "        text-align: right;\n",
       "    }\n",
       "</style>\n",
       "<table border=\"1\" class=\"dataframe\">\n",
       "  <thead>\n",
       "    <tr style=\"text-align: right;\">\n",
       "      <th></th>\n",
       "      <th>pair</th>\n",
       "      <th>value</th>\n",
       "      <th>ABS_corr</th>\n",
       "    </tr>\n",
       "  </thead>\n",
       "  <tbody>\n",
       "    <tr>\n",
       "      <th>597</th>\n",
       "      <td>AR_to_liab_tot__liq_curr_ratio</td>\n",
       "      <td>0.963080</td>\n",
       "      <td>0.963080</td>\n",
       "    </tr>\n",
       "    <tr>\n",
       "      <th>645</th>\n",
       "      <td>AR_to_liab_tot__liq_quick_ratio</td>\n",
       "      <td>0.968271</td>\n",
       "      <td>0.968271</td>\n",
       "    </tr>\n",
       "    <tr>\n",
       "      <th>1119</th>\n",
       "      <td>asst_current_to_asst_tot__asst_tang_fixed_to_a...</td>\n",
       "      <td>-0.839671</td>\n",
       "      <td>0.839671</td>\n",
       "    </tr>\n",
       "    <tr>\n",
       "      <th>515</th>\n",
       "      <td>debt_lt_to_asst_tot__debt_st_to_deb_tot</td>\n",
       "      <td>-0.771938</td>\n",
       "      <td>0.771938</td>\n",
       "    </tr>\n",
       "    <tr>\n",
       "      <th>1842</th>\n",
       "      <td>ebitda_to_asst_tot__goodwill_to_asst_tot</td>\n",
       "      <td>0.867485</td>\n",
       "      <td>0.867485</td>\n",
       "    </tr>\n",
       "    <tr>\n",
       "      <th>883</th>\n",
       "      <td>ebitda_to_asst_tot__prof_operations_to_asst_tot</td>\n",
       "      <td>0.998930</td>\n",
       "      <td>0.998930</td>\n",
       "    </tr>\n",
       "    <tr>\n",
       "      <th>479</th>\n",
       "      <td>eqty_tot_to_asst_tot__liab_tot_to_asst_tot</td>\n",
       "      <td>-0.998996</td>\n",
       "      <td>0.998996</td>\n",
       "    </tr>\n",
       "    <tr>\n",
       "      <th>1843</th>\n",
       "      <td>goodwill_to_asst_tot__prof_operations_to_asst_tot</td>\n",
       "      <td>0.865561</td>\n",
       "      <td>0.865561</td>\n",
       "    </tr>\n",
       "    <tr>\n",
       "      <th>589</th>\n",
       "      <td>liq_curr_ratio__liq_quick_ratio</td>\n",
       "      <td>0.988870</td>\n",
       "      <td>0.988870</td>\n",
       "    </tr>\n",
       "    <tr>\n",
       "      <th>2155</th>\n",
       "      <td>profit_to_asst_tot__taxes_to_asst_tot</td>\n",
       "      <td>0.980882</td>\n",
       "      <td>0.980882</td>\n",
       "    </tr>\n",
       "  </tbody>\n",
       "</table>\n",
       "</div>"
      ],
      "text/plain": [
       "                                                   pair     value  ABS_corr\n",
       "597                      AR_to_liab_tot__liq_curr_ratio  0.963080  0.963080\n",
       "645                     AR_to_liab_tot__liq_quick_ratio  0.968271  0.968271\n",
       "1119  asst_current_to_asst_tot__asst_tang_fixed_to_a... -0.839671  0.839671\n",
       "515             debt_lt_to_asst_tot__debt_st_to_deb_tot -0.771938  0.771938\n",
       "1842           ebitda_to_asst_tot__goodwill_to_asst_tot  0.867485  0.867485\n",
       "883     ebitda_to_asst_tot__prof_operations_to_asst_tot  0.998930  0.998930\n",
       "479          eqty_tot_to_asst_tot__liab_tot_to_asst_tot -0.998996  0.998996\n",
       "1843  goodwill_to_asst_tot__prof_operations_to_asst_tot  0.865561  0.865561\n",
       "589                     liq_curr_ratio__liq_quick_ratio  0.988870  0.988870\n",
       "2155              profit_to_asst_tot__taxes_to_asst_tot  0.980882  0.980882"
      ]
     },
     "execution_count": 11,
     "metadata": {},
     "output_type": "execute_result"
    }
   ],
   "source": [
    "pairwise = pd.melt(corr.reset_index(), id_vars=\"index\").query(\"value.abs() > 0.75\")\n",
    "pairwise = pairwise.query(\"index!=variable\")\n",
    "pairwise[\"ABS_corr\"] = pairwise[\"value\"].abs()\n",
    "pairwise = pairwise.sort_values([\"ABS_corr\"], ascending=False)\n",
    "pairwise[\"pair\"] = pairwise.apply(lambda x : \"__\".join(sorted([x[\"index\"], x[\"variable\"]])), axis=1)\n",
    "pairwise = pairwise.drop_duplicates(subset=[\"pair\"])\n",
    "pairwise[[\"pair\", \"value\", \"ABS_corr\"]].sort_values([\"pair\"])"
   ]
  },
  {
   "cell_type": "markdown",
   "metadata": {},
   "source": [
    "We notice multi-colinearity in many different factors - Need to reduce the number of factors"
   ]
  },
  {
   "cell_type": "code",
   "execution_count": 12,
   "metadata": {
    "collapsed": true
   },
   "outputs": [],
   "source": [
    "import statsmodels.formula.api as smf\n",
    "import statsmodels.api as sm\n",
    "from sklearn.metrics import roc_curve, auc, roc_auc_score"
   ]
  },
  {
   "cell_type": "code",
   "execution_count": 13,
   "metadata": {
    "collapsed": true
   },
   "outputs": [],
   "source": [
    "new_df = rat_df.sort_values(\"stmt_date\")\n",
    "train = new_df.iloc[:800000]\n",
    "test = new_df.iloc[800000:]\n",
    "\n",
    "no_standardize_cols = ['id', 'stmt_date', 'HQ_city', 'legal_struct', 'INDUSTRY','def_date', 'fs_year', \"def_in_12mo\"]\n"
   ]
  },
  {
   "cell_type": "code",
   "execution_count": 14,
   "metadata": {
    "collapsed": false,
    "scrolled": true
   },
   "outputs": [
    {
     "name": "stderr",
     "output_type": "stream",
     "text": [
      "C:\\Users\\Young Jin Park\\Anaconda3\\lib\\site-packages\\ipykernel_launcher.py:6: SettingWithCopyWarning: \n",
      "A value is trying to be set on a copy of a slice from a DataFrame.\n",
      "Try using .loc[row_indexer,col_indexer] = value instead\n",
      "\n",
      "See the caveats in the documentation: https://pandas.pydata.org/pandas-docs/stable/user_guide/indexing.html#returning-a-view-versus-a-copy\n",
      "  \n",
      "C:\\Users\\Young Jin Park\\Anaconda3\\lib\\site-packages\\ipykernel_launcher.py:9: SettingWithCopyWarning: \n",
      "A value is trying to be set on a copy of a slice from a DataFrame.\n",
      "Try using .loc[row_indexer,col_indexer] = value instead\n",
      "\n",
      "See the caveats in the documentation: https://pandas.pydata.org/pandas-docs/stable/user_guide/indexing.html#returning-a-view-versus-a-copy\n",
      "  if __name__ == '__main__':\n"
     ]
    },
    {
     "name": "stdout",
     "output_type": "stream",
     "text": [
      "def_in_12mo ~ eqty_tot_to_asst_tot\n",
      "Optimization terminated successfully.\n",
      "         Current function value: 0.067140\n",
      "         Iterations: 17\n",
      "         Function evaluations: 18\n",
      "         Gradient evaluations: 18\n",
      "def_in_12mo ~ liq_quick_ratio\n",
      "Optimization terminated successfully.\n",
      "         Current function value: 0.070391\n",
      "         Iterations: 18\n",
      "         Function evaluations: 19\n",
      "         Gradient evaluations: 19\n",
      "def_in_12mo ~ taxes_to_asst_tot\n",
      "Optimization terminated successfully.\n",
      "         Current function value: 0.065162\n",
      "         Iterations: 16\n",
      "         Function evaluations: 17\n",
      "         Gradient evaluations: 17\n",
      "def_in_12mo ~ debt_lt_to_asst_tot\n",
      "Optimization terminated successfully.\n",
      "         Current function value: 0.070373\n",
      "         Iterations: 18\n",
      "         Function evaluations: 19\n",
      "         Gradient evaluations: 19\n",
      "def_in_12mo ~ liq_curr_ratio\n",
      "Optimization terminated successfully.\n",
      "         Current function value: 0.070390\n",
      "         Iterations: 18\n",
      "         Function evaluations: 19\n",
      "         Gradient evaluations: 19\n",
      "def_in_12mo ~ profit_to_asst_tot\n",
      "Optimization terminated successfully.\n",
      "         Current function value: 0.065267\n",
      "         Iterations: 16\n",
      "         Function evaluations: 17\n",
      "         Gradient evaluations: 17\n",
      "def_in_12mo ~ goodwill_to_asst_tot\n",
      "Optimization terminated successfully.\n",
      "         Current function value: 0.070388\n",
      "         Iterations: 9\n",
      "         Function evaluations: 10\n",
      "         Gradient evaluations: 10\n",
      "def_in_12mo ~ ebitda_to_asst_tot\n",
      "Optimization terminated successfully.\n",
      "         Current function value: 0.070377\n",
      "         Iterations: 12\n",
      "         Function evaluations: 13\n",
      "         Gradient evaluations: 13\n",
      "def_in_12mo ~ liab_tot_to_asst_tot\n",
      "Optimization terminated successfully.\n",
      "         Current function value: 0.067140\n",
      "         Iterations: 17\n",
      "         Function evaluations: 18\n",
      "         Gradient evaluations: 18\n",
      "def_in_12mo ~ asst_current_to_asst_tot\n",
      "Optimization terminated successfully.\n",
      "         Current function value: 0.069717\n",
      "         Iterations: 18\n",
      "         Function evaluations: 19\n",
      "         Gradient evaluations: 19\n",
      "def_in_12mo ~ prof_operations_to_asst_tot\n",
      "Optimization terminated successfully.\n",
      "         Current function value: 0.070372\n",
      "         Iterations: 14\n",
      "         Function evaluations: 15\n",
      "         Gradient evaluations: 15\n",
      "def_in_12mo ~ asst_tang_fixed_to_asst_tot\n",
      "Optimization terminated successfully.\n",
      "         Current function value: 0.069376\n",
      "         Iterations: 18\n",
      "         Function evaluations: 19\n",
      "         Gradient evaluations: 19\n",
      "def_in_12mo ~ debt_st_to_deb_tot\n",
      "Optimization terminated successfully.\n",
      "         Current function value: 0.069883\n",
      "         Iterations: 18\n",
      "         Function evaluations: 19\n",
      "         Gradient evaluations: 19\n",
      "def_in_12mo ~ AR_to_liab_tot\n",
      "Optimization terminated successfully.\n",
      "         Current function value: 0.070391\n",
      "         Iterations: 18\n",
      "         Function evaluations: 19\n",
      "         Gradient evaluations: 19\n"
     ]
    }
   ],
   "source": [
    "\n",
    "stdz_dict = {}\n",
    "\n",
    "for col in train.columns:\n",
    "    if col not in no_standardize_cols:\n",
    "        stdz_dict[col] = [train[col].mean(), train[col].std()]\n",
    "        train[col] = (train[col] - train[col].mean()) / train[col].std()\n",
    "\n",
    "for col in stdz_dict.keys():\n",
    "    test[col] = (test[col] - stdz_dict[col][0]) / stdz_dict[col][1]\n",
    "        \n",
    "\n",
    "factor_cols = []\n",
    "score_cols = []\n",
    "for col in set(pairwise[\"index\"]).union(set(pairwise[\"variable\"])):\n",
    "    factor_cols.append(col)\n",
    "    eqn = \"def_in_12mo ~ %s\" % col\n",
    "    print(eqn)\n",
    "    mod = smf.logit(formula = eqn , data = train)\n",
    "    res = mod.fit(method=\"bfgs\")\n",
    "    pred_proba = res.predict(test)\n",
    "    result = pd.DataFrame({\"label\" : test.def_in_12mo.tolist() , \"proba\" : pred_proba})\n",
    "    result = result.sort_values(\"proba\", ascending=False)\n",
    "    def_rate = test[\"def_in_12mo\"].sum() / len(test[\"def_in_12mo\"])\n",
    "    cutoff = int(def_rate * len(test))\n",
    "    score = result.iloc[:cutoff][\"label\"].sum()\n",
    "    score_cols.append(score)\n"
   ]
  },
  {
   "cell_type": "code",
   "execution_count": 15,
   "metadata": {
    "collapsed": false
   },
   "outputs": [],
   "source": [
    "factor_df = pd.DataFrame({\"factor\" : factor_cols, \"score\" : score_cols})"
   ]
  },
  {
   "cell_type": "code",
   "execution_count": 16,
   "metadata": {
    "collapsed": false
   },
   "outputs": [],
   "source": [
    "score_dict = dict(zip(factor_cols, score_cols))"
   ]
  },
  {
   "cell_type": "code",
   "execution_count": 17,
   "metadata": {
    "collapsed": false
   },
   "outputs": [],
   "source": [
    "pairwise[\"winner\"] = pairwise.apply(lambda x : x[\"index\"] if score_dict[x[\"index\"]] >score_dict[x[\"variable\"]] else x[\"variable\"], axis=1)"
   ]
  },
  {
   "cell_type": "code",
   "execution_count": 18,
   "metadata": {
    "collapsed": false
   },
   "outputs": [
    {
     "data": {
      "text/html": [
       "<div>\n",
       "<style scoped>\n",
       "    .dataframe tbody tr th:only-of-type {\n",
       "        vertical-align: middle;\n",
       "    }\n",
       "\n",
       "    .dataframe tbody tr th {\n",
       "        vertical-align: top;\n",
       "    }\n",
       "\n",
       "    .dataframe thead th {\n",
       "        text-align: right;\n",
       "    }\n",
       "</style>\n",
       "<table border=\"1\" class=\"dataframe\">\n",
       "  <thead>\n",
       "    <tr style=\"text-align: right;\">\n",
       "      <th></th>\n",
       "      <th>index</th>\n",
       "      <th>variable</th>\n",
       "      <th>value</th>\n",
       "      <th>ABS_corr</th>\n",
       "      <th>pair</th>\n",
       "      <th>winner</th>\n",
       "    </tr>\n",
       "  </thead>\n",
       "  <tbody>\n",
       "    <tr>\n",
       "      <th>1119</th>\n",
       "      <td>asst_tang_fixed_to_asst_tot</td>\n",
       "      <td>asst_current_to_asst_tot</td>\n",
       "      <td>-0.839671</td>\n",
       "      <td>0.839671</td>\n",
       "      <td>asst_current_to_asst_tot__asst_tang_fixed_to_a...</td>\n",
       "      <td>asst_current_to_asst_tot</td>\n",
       "    </tr>\n",
       "    <tr>\n",
       "      <th>515</th>\n",
       "      <td>debt_lt_to_asst_tot</td>\n",
       "      <td>debt_st_to_deb_tot</td>\n",
       "      <td>-0.771938</td>\n",
       "      <td>0.771938</td>\n",
       "      <td>debt_lt_to_asst_tot__debt_st_to_deb_tot</td>\n",
       "      <td>debt_lt_to_asst_tot</td>\n",
       "    </tr>\n",
       "    <tr>\n",
       "      <th>883</th>\n",
       "      <td>prof_operations_to_asst_tot</td>\n",
       "      <td>ebitda_to_asst_tot</td>\n",
       "      <td>0.998930</td>\n",
       "      <td>0.998930</td>\n",
       "      <td>ebitda_to_asst_tot__prof_operations_to_asst_tot</td>\n",
       "      <td>prof_operations_to_asst_tot</td>\n",
       "    </tr>\n",
       "    <tr>\n",
       "      <th>479</th>\n",
       "      <td>liab_tot_to_asst_tot</td>\n",
       "      <td>eqty_tot_to_asst_tot</td>\n",
       "      <td>-0.998996</td>\n",
       "      <td>0.998996</td>\n",
       "      <td>eqty_tot_to_asst_tot__liab_tot_to_asst_tot</td>\n",
       "      <td>eqty_tot_to_asst_tot</td>\n",
       "    </tr>\n",
       "    <tr>\n",
       "      <th>1842</th>\n",
       "      <td>ebitda_to_asst_tot</td>\n",
       "      <td>goodwill_to_asst_tot</td>\n",
       "      <td>0.867485</td>\n",
       "      <td>0.867485</td>\n",
       "      <td>ebitda_to_asst_tot__goodwill_to_asst_tot</td>\n",
       "      <td>ebitda_to_asst_tot</td>\n",
       "    </tr>\n",
       "    <tr>\n",
       "      <th>1843</th>\n",
       "      <td>prof_operations_to_asst_tot</td>\n",
       "      <td>goodwill_to_asst_tot</td>\n",
       "      <td>0.865561</td>\n",
       "      <td>0.865561</td>\n",
       "      <td>goodwill_to_asst_tot__prof_operations_to_asst_tot</td>\n",
       "      <td>prof_operations_to_asst_tot</td>\n",
       "    </tr>\n",
       "    <tr>\n",
       "      <th>589</th>\n",
       "      <td>liq_quick_ratio</td>\n",
       "      <td>liq_curr_ratio</td>\n",
       "      <td>0.988870</td>\n",
       "      <td>0.988870</td>\n",
       "      <td>liq_curr_ratio__liq_quick_ratio</td>\n",
       "      <td>liq_quick_ratio</td>\n",
       "    </tr>\n",
       "    <tr>\n",
       "      <th>597</th>\n",
       "      <td>AR_to_liab_tot</td>\n",
       "      <td>liq_curr_ratio</td>\n",
       "      <td>0.963080</td>\n",
       "      <td>0.963080</td>\n",
       "      <td>AR_to_liab_tot__liq_curr_ratio</td>\n",
       "      <td>AR_to_liab_tot</td>\n",
       "    </tr>\n",
       "    <tr>\n",
       "      <th>645</th>\n",
       "      <td>AR_to_liab_tot</td>\n",
       "      <td>liq_quick_ratio</td>\n",
       "      <td>0.968271</td>\n",
       "      <td>0.968271</td>\n",
       "      <td>AR_to_liab_tot__liq_quick_ratio</td>\n",
       "      <td>liq_quick_ratio</td>\n",
       "    </tr>\n",
       "    <tr>\n",
       "      <th>2155</th>\n",
       "      <td>taxes_to_asst_tot</td>\n",
       "      <td>profit_to_asst_tot</td>\n",
       "      <td>0.980882</td>\n",
       "      <td>0.980882</td>\n",
       "      <td>profit_to_asst_tot__taxes_to_asst_tot</td>\n",
       "      <td>profit_to_asst_tot</td>\n",
       "    </tr>\n",
       "  </tbody>\n",
       "</table>\n",
       "</div>"
      ],
      "text/plain": [
       "                            index                  variable     value  \\\n",
       "1119  asst_tang_fixed_to_asst_tot  asst_current_to_asst_tot -0.839671   \n",
       "515           debt_lt_to_asst_tot        debt_st_to_deb_tot -0.771938   \n",
       "883   prof_operations_to_asst_tot        ebitda_to_asst_tot  0.998930   \n",
       "479          liab_tot_to_asst_tot      eqty_tot_to_asst_tot -0.998996   \n",
       "1842           ebitda_to_asst_tot      goodwill_to_asst_tot  0.867485   \n",
       "1843  prof_operations_to_asst_tot      goodwill_to_asst_tot  0.865561   \n",
       "589               liq_quick_ratio            liq_curr_ratio  0.988870   \n",
       "597                AR_to_liab_tot            liq_curr_ratio  0.963080   \n",
       "645                AR_to_liab_tot           liq_quick_ratio  0.968271   \n",
       "2155            taxes_to_asst_tot        profit_to_asst_tot  0.980882   \n",
       "\n",
       "      ABS_corr                                               pair  \\\n",
       "1119  0.839671  asst_current_to_asst_tot__asst_tang_fixed_to_a...   \n",
       "515   0.771938            debt_lt_to_asst_tot__debt_st_to_deb_tot   \n",
       "883   0.998930    ebitda_to_asst_tot__prof_operations_to_asst_tot   \n",
       "479   0.998996         eqty_tot_to_asst_tot__liab_tot_to_asst_tot   \n",
       "1842  0.867485           ebitda_to_asst_tot__goodwill_to_asst_tot   \n",
       "1843  0.865561  goodwill_to_asst_tot__prof_operations_to_asst_tot   \n",
       "589   0.988870                    liq_curr_ratio__liq_quick_ratio   \n",
       "597   0.963080                     AR_to_liab_tot__liq_curr_ratio   \n",
       "645   0.968271                    AR_to_liab_tot__liq_quick_ratio   \n",
       "2155  0.980882              profit_to_asst_tot__taxes_to_asst_tot   \n",
       "\n",
       "                           winner  \n",
       "1119     asst_current_to_asst_tot  \n",
       "515           debt_lt_to_asst_tot  \n",
       "883   prof_operations_to_asst_tot  \n",
       "479          eqty_tot_to_asst_tot  \n",
       "1842           ebitda_to_asst_tot  \n",
       "1843  prof_operations_to_asst_tot  \n",
       "589               liq_quick_ratio  \n",
       "597                AR_to_liab_tot  \n",
       "645               liq_quick_ratio  \n",
       "2155           profit_to_asst_tot  "
      ]
     },
     "execution_count": 18,
     "metadata": {},
     "output_type": "execute_result"
    }
   ],
   "source": [
    "pairwise.sort_values(\"variable\")"
   ]
  },
  {
   "cell_type": "code",
   "execution_count": 9,
   "metadata": {
    "collapsed": false
   },
   "outputs": [],
   "source": [
    "factors_to_exclude = [\"AR_to_liab_tot\", \"ebitda_to_asst_tot\", \"goodwill_to_asst_tot\", \"liq_quick_ratio\", \"liq_curr_ratio\", \n",
    "                      \"taxes_to_asst_tot\", \"AR_to_liab_tot\", \"liab_tot_to_asst_tot\", \"prof_operations_to_asst_tot\"]"
   ]
  },
  {
   "cell_type": "code",
   "execution_count": 10,
   "metadata": {
    "collapsed": false
   },
   "outputs": [],
   "source": [
    "rat_df = rat_df.drop(factors_to_exclude, axis=1)"
   ]
  },
  {
   "cell_type": "markdown",
   "metadata": {},
   "source": [
    "### Change over one year"
   ]
  },
  {
   "cell_type": "code",
   "execution_count": 11,
   "metadata": {
    "collapsed": true
   },
   "outputs": [],
   "source": [
    "chg_cols = [col for col in rat_df.columns if ((col in [\"roe\", \"roa\"]) or (\"_to_\" in col))]"
   ]
  },
  {
   "cell_type": "code",
   "execution_count": 12,
   "metadata": {
    "collapsed": false
   },
   "outputs": [],
   "source": [
    "rat_df = rat_df.sort_values([\"id\", \"stmt_date\"])\n",
    "chg_df = rat_df[[\"id\"] + chg_cols].groupby(\"id\").diff().fillna(0)"
   ]
  },
  {
   "cell_type": "code",
   "execution_count": 13,
   "metadata": {
    "collapsed": false
   },
   "outputs": [],
   "source": [
    "chg_df.columns=[c+\"_chg_1y\" for c in chg_df.columns]"
   ]
  },
  {
   "cell_type": "code",
   "execution_count": 106,
   "metadata": {
    "collapsed": false
   },
   "outputs": [],
   "source": [
    "new_rat_df = rat_df.join(chg_df)"
   ]
  },
  {
   "cell_type": "code",
   "execution_count": 16,
   "metadata": {
    "collapsed": true
   },
   "outputs": [],
   "source": [
    "# 7. For Now drop city / year / stmt_date -- will add the back later :  "
   ]
  },
  {
   "cell_type": "markdown",
   "metadata": {},
   "source": [
    "### Macro Factors"
   ]
  },
  {
   "cell_type": "code",
   "execution_count": 107,
   "metadata": {
    "collapsed": false
   },
   "outputs": [],
   "source": [
    "# Merge macro factors : \n",
    "m_fac = pd.read_csv(data_dir + \"ita_macro_factors.csv\")"
   ]
  },
  {
   "cell_type": "code",
   "execution_count": 108,
   "metadata": {
    "collapsed": true
   },
   "outputs": [],
   "source": [
    "new_rat_df = new_rat_df.merge(m_fac, on=\"fs_year\", how=\"left\")"
   ]
  },
  {
   "cell_type": "code",
   "execution_count": 109,
   "metadata": {
    "collapsed": false
   },
   "outputs": [],
   "source": [
    "new_rat_df = new_rat_df.sort_values(\"stmt_date\")\n",
    "df1 = new_rat_df.drop([\"id\", \"stmt_date\", \"fs_year\", \"legal_struct\", \"HQ_city\", \"def_date\"], axis=1)\n",
    "df1[\"days_rec\"] = df1.days_rec.fillna(0)"
   ]
  },
  {
   "cell_type": "markdown",
   "metadata": {},
   "source": [
    "### Simple Train / Test Split"
   ]
  },
  {
   "cell_type": "code",
   "execution_count": 114,
   "metadata": {
    "collapsed": false
   },
   "outputs": [],
   "source": [
    "# simple train test =\n",
    "split_n = int(0.8 * len(df1))\n",
    "train = df1[:split_n]\n",
    "test = df1[split_n:]"
   ]
  },
  {
   "cell_type": "markdown",
   "metadata": {},
   "source": [
    "### Standardizing data"
   ]
  },
  {
   "cell_type": "code",
   "execution_count": 115,
   "metadata": {
    "collapsed": false
   },
   "outputs": [
    {
     "name": "stdout",
     "output_type": "stream",
     "text": [
      "asst_tot\n",
      "days_rec\n",
      "roa\n",
      "roe\n",
      "debt_st_to_eqty_tot\n",
      "eqty_tot_to_asst_tot\n"
     ]
    },
    {
     "name": "stderr",
     "output_type": "stream",
     "text": [
      "C:\\Users\\Young Jin Park\\Anaconda3\\lib\\site-packages\\ipykernel_launcher.py:9: SettingWithCopyWarning: \n",
      "A value is trying to be set on a copy of a slice from a DataFrame.\n",
      "Try using .loc[row_indexer,col_indexer] = value instead\n",
      "\n",
      "See the caveats in the documentation: https://pandas.pydata.org/pandas-docs/stable/user_guide/indexing.html#returning-a-view-versus-a-copy\n",
      "  if __name__ == '__main__':\n"
     ]
    },
    {
     "name": "stdout",
     "output_type": "stream",
     "text": [
      "debt_st_to_deb_tot\n",
      "debt_st_to_ebitda\n",
      "wc_net_to_asst_tot\n",
      "asst_tang_fixed_to_asst_tot\n",
      "asst_intang_fixed_to_asst_tot\n",
      "liq_cfo_ratio\n",
      "ebitda_to_exp_financing\n",
      "asst_fixed_fin_to_asst_tot\n",
      "asst_current_to_asst_tot\n",
      "AR_to_asst_tot\n",
      "cash_and_equiv_to_asst_tot\n",
      "liab_lt_to_asst_tot\n",
      "liab_lt_emp_to_asst_tot\n",
      "debt_bank_st_to_asst_tot\n",
      "debt_bank_lt_to_asst_tot\n",
      "debt_fin_st_to_asst_tot\n",
      "debt_fin_lt_to_asst_tot\n",
      "AP_st_to_asst_tot\n",
      "AP_lt_to_asst_tot\n",
      "debt_st_to_asst_tot\n",
      "debt_lt_to_asst_tot\n",
      "rev_operating_to_asst_tot\n",
      "COGS_to_asst_tot\n",
      "inc_financing_to_asst_tot\n",
      "exp_financing_to_asst_tot\n",
      "prof_financing_to_asst_tot\n",
      "inc_extraord_to_asst_tot\n",
      "profit_to_asst_tot\n",
      "margin_fin_to_asst_tot\n",
      "cf_operations_to_asst_tot\n",
      "roa_chg_1y\n",
      "roe_chg_1y\n",
      "debt_st_to_eqty_tot_chg_1y\n",
      "eqty_tot_to_asst_tot_chg_1y\n",
      "debt_st_to_deb_tot_chg_1y\n",
      "debt_st_to_ebitda_chg_1y\n",
      "wc_net_to_asst_tot_chg_1y\n",
      "asst_tang_fixed_to_asst_tot_chg_1y\n",
      "asst_intang_fixed_to_asst_tot_chg_1y\n",
      "ebitda_to_exp_financing_chg_1y\n",
      "asst_fixed_fin_to_asst_tot_chg_1y\n",
      "asst_current_to_asst_tot_chg_1y\n",
      "AR_to_asst_tot_chg_1y\n",
      "cash_and_equiv_to_asst_tot_chg_1y\n",
      "liab_lt_to_asst_tot_chg_1y\n",
      "liab_lt_emp_to_asst_tot_chg_1y\n",
      "debt_bank_st_to_asst_tot_chg_1y\n",
      "debt_bank_lt_to_asst_tot_chg_1y\n",
      "debt_fin_st_to_asst_tot_chg_1y\n",
      "debt_fin_lt_to_asst_tot_chg_1y\n",
      "AP_st_to_asst_tot_chg_1y\n",
      "AP_lt_to_asst_tot_chg_1y\n",
      "debt_st_to_asst_tot_chg_1y\n",
      "debt_lt_to_asst_tot_chg_1y\n",
      "rev_operating_to_asst_tot_chg_1y\n",
      "COGS_to_asst_tot_chg_1y\n",
      "inc_financing_to_asst_tot_chg_1y\n",
      "exp_financing_to_asst_tot_chg_1y\n",
      "prof_financing_to_asst_tot_chg_1y\n",
      "inc_extraord_to_asst_tot_chg_1y\n",
      "profit_to_asst_tot_chg_1y\n",
      "margin_fin_to_asst_tot_chg_1y\n",
      "cf_operations_to_asst_tot_chg_1y\n",
      "CPI\n",
      "unemployment_rate\n",
      "long_interest_rates\n",
      "exchange_rates_USD\n",
      "banking_sector_leverage\n",
      "avg_CLI\n",
      "corporate_tax_rate\n",
      "goods_services_tax\n",
      "tax_wedge\n",
      "tax_revenue\n",
      "FDI_flows_outward\n",
      "FDI_flows_inward\n",
      "asst_tot\n",
      "days_rec\n",
      "roa\n",
      "roe\n",
      "debt_st_to_eqty_tot\n",
      "eqty_tot_to_asst_tot\n",
      "debt_st_to_deb_tot\n",
      "debt_st_to_ebitda\n",
      "wc_net_to_asst_tot\n",
      "asst_tang_fixed_to_asst_tot\n",
      "asst_intang_fixed_to_asst_tot\n",
      "liq_cfo_ratio\n",
      "ebitda_to_exp_financing\n",
      "asst_fixed_fin_to_asst_tot\n",
      "asst_current_to_asst_tot\n",
      "AR_to_asst_tot\n",
      "cash_and_equiv_to_asst_tot\n",
      "liab_lt_to_asst_tot\n",
      "liab_lt_emp_to_asst_tot\n",
      "debt_bank_st_to_asst_tot\n",
      "debt_bank_lt_to_asst_tot\n",
      "debt_fin_st_to_asst_tot\n",
      "debt_fin_lt_to_asst_tot\n",
      "AP_st_to_asst_tot\n",
      "AP_lt_to_asst_tot\n",
      "debt_st_to_asst_tot\n",
      "debt_lt_to_asst_tot\n",
      "rev_operating_to_asst_tot\n",
      "COGS_to_asst_tot\n",
      "inc_financing_to_asst_tot\n",
      "exp_financing_to_asst_tot\n",
      "prof_financing_to_asst_tot\n",
      "inc_extraord_to_asst_tot\n",
      "profit_to_asst_tot\n",
      "margin_fin_to_asst_tot\n",
      "cf_operations_to_asst_tot\n",
      "roa_chg_1y\n",
      "roe_chg_1y\n",
      "debt_st_to_eqty_tot_chg_1y\n",
      "eqty_tot_to_asst_tot_chg_1y\n",
      "debt_st_to_deb_tot_chg_1y\n",
      "debt_st_to_ebitda_chg_1y\n",
      "wc_net_to_asst_tot_chg_1y\n",
      "asst_tang_fixed_to_asst_tot_chg_1y\n",
      "asst_intang_fixed_to_asst_tot_chg_1y\n",
      "ebitda_to_exp_financing_chg_1y\n",
      "asst_fixed_fin_to_asst_tot_chg_1y\n",
      "asst_current_to_asst_tot_chg_1y\n",
      "AR_to_asst_tot_chg_1y\n",
      "cash_and_equiv_to_asst_tot_chg_1y\n",
      "liab_lt_to_asst_tot_chg_1y\n",
      "liab_lt_emp_to_asst_tot_chg_1y\n",
      "debt_bank_st_to_asst_tot_chg_1y\n",
      "debt_bank_lt_to_asst_tot_chg_1y\n",
      "debt_fin_st_to_asst_tot_chg_1y\n",
      "debt_fin_lt_to_asst_tot_chg_1y\n",
      "AP_st_to_asst_tot_chg_1y\n",
      "AP_lt_to_asst_tot_chg_1y\n",
      "debt_st_to_asst_tot_chg_1y\n",
      "debt_lt_to_asst_tot_chg_1y\n",
      "rev_operating_to_asst_tot_chg_1y\n",
      "COGS_to_asst_tot_chg_1y\n",
      "inc_financing_to_asst_tot_chg_1y\n",
      "exp_financing_to_asst_tot_chg_1y\n",
      "prof_financing_to_asst_tot_chg_1y\n",
      "inc_extraord_to_asst_tot_chg_1y\n",
      "profit_to_asst_tot_chg_1y\n",
      "margin_fin_to_asst_tot_chg_1y\n",
      "cf_operations_to_asst_tot_chg_1y\n",
      "CPI\n",
      "unemployment_rate\n",
      "long_interest_rates\n",
      "exchange_rates_USD\n",
      "banking_sector_leverage\n",
      "avg_CLI\n",
      "corporate_tax_rate\n",
      "goods_services_tax\n",
      "tax_wedge\n",
      "tax_revenue\n",
      "FDI_flows_outward\n",
      "FDI_flows_inward\n"
     ]
    },
    {
     "name": "stderr",
     "output_type": "stream",
     "text": [
      "C:\\Users\\Young Jin Park\\Anaconda3\\lib\\site-packages\\ipykernel_launcher.py:13: SettingWithCopyWarning: \n",
      "A value is trying to be set on a copy of a slice from a DataFrame.\n",
      "Try using .loc[row_indexer,col_indexer] = value instead\n",
      "\n",
      "See the caveats in the documentation: https://pandas.pydata.org/pandas-docs/stable/user_guide/indexing.html#returning-a-view-versus-a-copy\n",
      "  del sys.path[0]\n"
     ]
    }
   ],
   "source": [
    "no_standardize_cols = ['id', 'stmt_date', 'HQ_city', 'legal_struct', 'ateco_sector','def_date', 'fs_year', \"def_in_12mo\", \"INDUSTRY\"]\n",
    "\n",
    "stdz_dict = {}\n",
    "\n",
    "for col in train.columns:\n",
    "    if col not in no_standardize_cols:\n",
    "        print(col)\n",
    "        stdz_dict[col] = [train[col].mean(), train[col].std()]\n",
    "        train[col] = (train[col] - train[col].mean()) / train[col].std()\n",
    "\n",
    "for col in stdz_dict.keys():\n",
    "    print(col)\n",
    "    test[col] = (test[col] - stdz_dict[col][0]) / stdz_dict[col][1]"
   ]
  },
  {
   "cell_type": "markdown",
   "metadata": {},
   "source": [
    "### Create Dummy Variable"
   ]
  },
  {
   "cell_type": "code",
   "execution_count": 120,
   "metadata": {
    "collapsed": false,
    "scrolled": true
   },
   "outputs": [
    {
     "ename": "ValueError",
     "evalue": "columns overlap but no suffix specified: Index(['ACTIVITIES_OF_ACCOMMODATION_AND_RESTAURANT_SERVICES',\n       'AGRICULTURE__FORESTRY_AND_FISHING',\n       'ARTISTIC__SPORTS__ENTERTAINMENT_ACITIVIES', 'CONSTRUCTION',\n       'EXTRACTION_OF_MINERALS_FROM_QUARRIES_AND_MINES',\n       'EXTRATERRITORIAL_ORGANIZATIONS_AND_BODIES',\n       'HEALTH_AND_SOCIAL_ASSISTANCE',\n       'INFORMATION_AND_COMMUNICATION_SERVICES', 'INSTRUCTION',\n       'MANUFACTURING_ACTIVITIES', 'OTHER_SERVICE_ACTIVITIES',\n       'PROFESSIONAL__SCIENTIFIC_AND_TECHNICAL_ACTIVITIES',\n       'PUBLIC_ADMINISTRATION_AND_DEFENCE__SOCIAL_INSURANCE_COMPULSORY',\n       'REAL_ESTATE_ACTIVITIES',\n       'RENTAL__TRAVEL_AGENCIES__SUPPORT_SERVICIES_TO_BUSINESSES',\n       'SUPPLY_OF_ELECTRICITY__GAS__STEAM_AND_AIR_CONDITIONING',\n       'SUPPLY_OF_WATER__SEWER_NETWORKS__MANAGEMENT_ACTIVITIES_OF_WASTE_AND_REMEDIATION',\n       'TRANSPORT_AND_STORAGE',\n       'WHOLESALE_AND_RETAIL_TRADE__REPAIR_OF_VEHICLES_AND_MOTORCYCLES'],\n      dtype='object')",
     "output_type": "error",
     "traceback": [
      "\u001b[1;31m---------------------------------------------------------------------------\u001b[0m",
      "\u001b[1;31mValueError\u001b[0m                                Traceback (most recent call last)",
      "\u001b[1;32m<ipython-input-120-735e7bfbffd4>\u001b[0m in \u001b[0;36m<module>\u001b[1;34m\u001b[0m\n\u001b[1;32m----> 1\u001b[1;33m \u001b[0mtest\u001b[0m \u001b[1;33m=\u001b[0m \u001b[0mtest\u001b[0m\u001b[1;33m.\u001b[0m\u001b[0mjoin\u001b[0m\u001b[1;33m(\u001b[0m\u001b[0mpd\u001b[0m\u001b[1;33m.\u001b[0m\u001b[0mget_dummies\u001b[0m\u001b[1;33m(\u001b[0m\u001b[0mtest\u001b[0m\u001b[1;33m[\u001b[0m\u001b[1;34m\"INDUSTRY\"\u001b[0m\u001b[1;33m]\u001b[0m\u001b[1;33m)\u001b[0m\u001b[1;33m)\u001b[0m\u001b[1;33m.\u001b[0m\u001b[0mdrop\u001b[0m\u001b[1;33m(\u001b[0m\u001b[1;34m\"INDUSTRY\"\u001b[0m\u001b[1;33m,\u001b[0m \u001b[0maxis\u001b[0m\u001b[1;33m=\u001b[0m\u001b[1;36m1\u001b[0m\u001b[1;33m)\u001b[0m\u001b[1;33m\u001b[0m\u001b[1;33m\u001b[0m\u001b[0m\n\u001b[0m\u001b[0;32m      2\u001b[0m \u001b[0mtrain\u001b[0m \u001b[1;33m=\u001b[0m \u001b[0mtrain\u001b[0m\u001b[1;33m.\u001b[0m\u001b[0mjoin\u001b[0m\u001b[1;33m(\u001b[0m\u001b[0mpd\u001b[0m\u001b[1;33m.\u001b[0m\u001b[0mget_dummies\u001b[0m\u001b[1;33m(\u001b[0m\u001b[0mtrain\u001b[0m\u001b[1;33m[\u001b[0m\u001b[1;34m\"INDUSTRY\"\u001b[0m\u001b[1;33m]\u001b[0m\u001b[1;33m)\u001b[0m\u001b[1;33m)\u001b[0m\u001b[1;33m.\u001b[0m\u001b[0mdrop\u001b[0m\u001b[1;33m(\u001b[0m\u001b[1;34m\"INDUSTRY\"\u001b[0m\u001b[1;33m,\u001b[0m \u001b[0maxis\u001b[0m\u001b[1;33m=\u001b[0m\u001b[1;36m1\u001b[0m\u001b[1;33m)\u001b[0m\u001b[1;33m\u001b[0m\u001b[1;33m\u001b[0m\u001b[0m\n",
      "\u001b[1;32m~\\Anaconda3\\lib\\site-packages\\pandas\\core\\frame.py\u001b[0m in \u001b[0;36mjoin\u001b[1;34m(self, other, on, how, lsuffix, rsuffix, sort)\u001b[0m\n\u001b[0;32m   7873\u001b[0m         \"\"\"\n\u001b[0;32m   7874\u001b[0m         return self._join_compat(\n\u001b[1;32m-> 7875\u001b[1;33m             \u001b[0mother\u001b[0m\u001b[1;33m,\u001b[0m \u001b[0mon\u001b[0m\u001b[1;33m=\u001b[0m\u001b[0mon\u001b[0m\u001b[1;33m,\u001b[0m \u001b[0mhow\u001b[0m\u001b[1;33m=\u001b[0m\u001b[0mhow\u001b[0m\u001b[1;33m,\u001b[0m \u001b[0mlsuffix\u001b[0m\u001b[1;33m=\u001b[0m\u001b[0mlsuffix\u001b[0m\u001b[1;33m,\u001b[0m \u001b[0mrsuffix\u001b[0m\u001b[1;33m=\u001b[0m\u001b[0mrsuffix\u001b[0m\u001b[1;33m,\u001b[0m \u001b[0msort\u001b[0m\u001b[1;33m=\u001b[0m\u001b[0msort\u001b[0m\u001b[1;33m\u001b[0m\u001b[1;33m\u001b[0m\u001b[0m\n\u001b[0m\u001b[0;32m   7876\u001b[0m         )\n\u001b[0;32m   7877\u001b[0m \u001b[1;33m\u001b[0m\u001b[0m\n",
      "\u001b[1;32m~\\Anaconda3\\lib\\site-packages\\pandas\\core\\frame.py\u001b[0m in \u001b[0;36m_join_compat\u001b[1;34m(self, other, on, how, lsuffix, rsuffix, sort)\u001b[0m\n\u001b[0;32m   7896\u001b[0m                 \u001b[0mright_index\u001b[0m\u001b[1;33m=\u001b[0m\u001b[1;32mTrue\u001b[0m\u001b[1;33m,\u001b[0m\u001b[1;33m\u001b[0m\u001b[1;33m\u001b[0m\u001b[0m\n\u001b[0;32m   7897\u001b[0m                 \u001b[0msuffixes\u001b[0m\u001b[1;33m=\u001b[0m\u001b[1;33m(\u001b[0m\u001b[0mlsuffix\u001b[0m\u001b[1;33m,\u001b[0m \u001b[0mrsuffix\u001b[0m\u001b[1;33m)\u001b[0m\u001b[1;33m,\u001b[0m\u001b[1;33m\u001b[0m\u001b[1;33m\u001b[0m\u001b[0m\n\u001b[1;32m-> 7898\u001b[1;33m                 \u001b[0msort\u001b[0m\u001b[1;33m=\u001b[0m\u001b[0msort\u001b[0m\u001b[1;33m,\u001b[0m\u001b[1;33m\u001b[0m\u001b[1;33m\u001b[0m\u001b[0m\n\u001b[0m\u001b[0;32m   7899\u001b[0m             )\n\u001b[0;32m   7900\u001b[0m         \u001b[1;32melse\u001b[0m\u001b[1;33m:\u001b[0m\u001b[1;33m\u001b[0m\u001b[1;33m\u001b[0m\u001b[0m\n",
      "\u001b[1;32m~\\Anaconda3\\lib\\site-packages\\pandas\\core\\reshape\\merge.py\u001b[0m in \u001b[0;36mmerge\u001b[1;34m(left, right, how, on, left_on, right_on, left_index, right_index, sort, suffixes, copy, indicator, validate)\u001b[0m\n\u001b[0;32m     87\u001b[0m         \u001b[0mvalidate\u001b[0m\u001b[1;33m=\u001b[0m\u001b[0mvalidate\u001b[0m\u001b[1;33m,\u001b[0m\u001b[1;33m\u001b[0m\u001b[1;33m\u001b[0m\u001b[0m\n\u001b[0;32m     88\u001b[0m     )\n\u001b[1;32m---> 89\u001b[1;33m     \u001b[1;32mreturn\u001b[0m \u001b[0mop\u001b[0m\u001b[1;33m.\u001b[0m\u001b[0mget_result\u001b[0m\u001b[1;33m(\u001b[0m\u001b[1;33m)\u001b[0m\u001b[1;33m\u001b[0m\u001b[1;33m\u001b[0m\u001b[0m\n\u001b[0m\u001b[0;32m     90\u001b[0m \u001b[1;33m\u001b[0m\u001b[0m\n\u001b[0;32m     91\u001b[0m \u001b[1;33m\u001b[0m\u001b[0m\n",
      "\u001b[1;32m~\\Anaconda3\\lib\\site-packages\\pandas\\core\\reshape\\merge.py\u001b[0m in \u001b[0;36mget_result\u001b[1;34m(self)\u001b[0m\n\u001b[0;32m    669\u001b[0m \u001b[1;33m\u001b[0m\u001b[0m\n\u001b[0;32m    670\u001b[0m         llabels, rlabels = _items_overlap_with_suffix(\n\u001b[1;32m--> 671\u001b[1;33m             \u001b[0mself\u001b[0m\u001b[1;33m.\u001b[0m\u001b[0mleft\u001b[0m\u001b[1;33m.\u001b[0m\u001b[0m_info_axis\u001b[0m\u001b[1;33m,\u001b[0m \u001b[0mself\u001b[0m\u001b[1;33m.\u001b[0m\u001b[0mright\u001b[0m\u001b[1;33m.\u001b[0m\u001b[0m_info_axis\u001b[0m\u001b[1;33m,\u001b[0m \u001b[0mself\u001b[0m\u001b[1;33m.\u001b[0m\u001b[0msuffixes\u001b[0m\u001b[1;33m\u001b[0m\u001b[1;33m\u001b[0m\u001b[0m\n\u001b[0m\u001b[0;32m    672\u001b[0m         )\n\u001b[0;32m    673\u001b[0m \u001b[1;33m\u001b[0m\u001b[0m\n",
      "\u001b[1;32m~\\Anaconda3\\lib\\site-packages\\pandas\\core\\reshape\\merge.py\u001b[0m in \u001b[0;36m_items_overlap_with_suffix\u001b[1;34m(left, right, suffixes)\u001b[0m\n\u001b[0;32m   2094\u001b[0m \u001b[1;33m\u001b[0m\u001b[0m\n\u001b[0;32m   2095\u001b[0m     \u001b[1;32mif\u001b[0m \u001b[1;32mnot\u001b[0m \u001b[0mlsuffix\u001b[0m \u001b[1;32mand\u001b[0m \u001b[1;32mnot\u001b[0m \u001b[0mrsuffix\u001b[0m\u001b[1;33m:\u001b[0m\u001b[1;33m\u001b[0m\u001b[1;33m\u001b[0m\u001b[0m\n\u001b[1;32m-> 2096\u001b[1;33m         \u001b[1;32mraise\u001b[0m \u001b[0mValueError\u001b[0m\u001b[1;33m(\u001b[0m\u001b[1;34mf\"columns overlap but no suffix specified: {to_rename}\"\u001b[0m\u001b[1;33m)\u001b[0m\u001b[1;33m\u001b[0m\u001b[1;33m\u001b[0m\u001b[0m\n\u001b[0m\u001b[0;32m   2097\u001b[0m \u001b[1;33m\u001b[0m\u001b[0m\n\u001b[0;32m   2098\u001b[0m     \u001b[1;32mdef\u001b[0m \u001b[0mrenamer\u001b[0m\u001b[1;33m(\u001b[0m\u001b[0mx\u001b[0m\u001b[1;33m,\u001b[0m \u001b[0msuffix\u001b[0m\u001b[1;33m)\u001b[0m\u001b[1;33m:\u001b[0m\u001b[1;33m\u001b[0m\u001b[1;33m\u001b[0m\u001b[0m\n",
      "\u001b[1;31mValueError\u001b[0m: columns overlap but no suffix specified: Index(['ACTIVITIES_OF_ACCOMMODATION_AND_RESTAURANT_SERVICES',\n       'AGRICULTURE__FORESTRY_AND_FISHING',\n       'ARTISTIC__SPORTS__ENTERTAINMENT_ACITIVIES', 'CONSTRUCTION',\n       'EXTRACTION_OF_MINERALS_FROM_QUARRIES_AND_MINES',\n       'EXTRATERRITORIAL_ORGANIZATIONS_AND_BODIES',\n       'HEALTH_AND_SOCIAL_ASSISTANCE',\n       'INFORMATION_AND_COMMUNICATION_SERVICES', 'INSTRUCTION',\n       'MANUFACTURING_ACTIVITIES', 'OTHER_SERVICE_ACTIVITIES',\n       'PROFESSIONAL__SCIENTIFIC_AND_TECHNICAL_ACTIVITIES',\n       'PUBLIC_ADMINISTRATION_AND_DEFENCE__SOCIAL_INSURANCE_COMPULSORY',\n       'REAL_ESTATE_ACTIVITIES',\n       'RENTAL__TRAVEL_AGENCIES__SUPPORT_SERVICIES_TO_BUSINESSES',\n       'SUPPLY_OF_ELECTRICITY__GAS__STEAM_AND_AIR_CONDITIONING',\n       'SUPPLY_OF_WATER__SEWER_NETWORKS__MANAGEMENT_ACTIVITIES_OF_WASTE_AND_REMEDIATION',\n       'TRANSPORT_AND_STORAGE',\n       'WHOLESALE_AND_RETAIL_TRADE__REPAIR_OF_VEHICLES_AND_MOTORCYCLES'],\n      dtype='object')"
     ]
    }
   ],
   "source": [
    "test = test.join(pd.get_dummies(test[\"INDUSTRY\"]))\n",
    "train = train.join(pd.get_dummies(train[\"INDUSTRY\"]))"
   ]
  },
  {
   "cell_type": "code",
   "execution_count": 121,
   "metadata": {
    "collapsed": true
   },
   "outputs": [],
   "source": [
    "train = train.drop(\"INDUSTRY\", axis=1)\n",
    "test = test.drop(\"INDUSTRY\", axis=1)"
   ]
  },
  {
   "cell_type": "code",
   "execution_count": 122,
   "metadata": {
    "collapsed": true
   },
   "outputs": [],
   "source": [
    "train_X = train[[col for col in train.columns if col!=\"def_in_12mo\"]]\n",
    "train_Y = train[\"def_in_12mo\"]\n",
    "test_X = test[[col for col in test.columns if col!=\"def_in_12mo\"]]\n",
    "test_Y = test[\"def_in_12mo\"]\n"
   ]
  },
  {
   "cell_type": "markdown",
   "metadata": {},
   "source": [
    "## Logit model"
   ]
  },
  {
   "cell_type": "code",
   "execution_count": 25,
   "metadata": {
    "collapsed": true
   },
   "outputs": [],
   "source": [
    "### Logit\n",
    "logit_eqn = \"def_in_12mo ~ \" + \" + \".join(train_X.columns.tolist())"
   ]
  },
  {
   "cell_type": "code",
   "execution_count": 26,
   "metadata": {
    "collapsed": true
   },
   "outputs": [],
   "source": [
    "import statsmodels.formula.api as smf\n",
    "import statsmodels.api as sm\n",
    "from sklearn.metrics import roc_curve, auc, roc_auc_score"
   ]
  },
  {
   "cell_type": "code",
   "execution_count": 27,
   "metadata": {
    "collapsed": false
   },
   "outputs": [
    {
     "name": "stdout",
     "output_type": "stream",
     "text": [
      "Warning: Maximum number of iterations has been exceeded.\n",
      "         Current function value: 0.057508\n",
      "         Iterations: 35\n",
      "         Function evaluations: 36\n",
      "         Gradient evaluations: 36\n"
     ]
    },
    {
     "name": "stderr",
     "output_type": "stream",
     "text": [
      "C:\\Users\\Young Jin Park\\Anaconda3\\lib\\site-packages\\statsmodels\\base\\model.py:548: HessianInversionWarning: Inverting hessian failed, no bse or cov_params available\n",
      "  'available', HessianInversionWarning)\n",
      "C:\\Users\\Young Jin Park\\Anaconda3\\lib\\site-packages\\statsmodels\\base\\model.py:568: ConvergenceWarning: Maximum Likelihood optimization failed to converge. Check mle_retvals\n",
      "  ConvergenceWarning)\n"
     ]
    }
   ],
   "source": [
    "mod = smf.logit(formula = logit_eqn , data = train)\n",
    "res = mod.fit(method=\"bfgs\")\n",
    "pred_proba = res.predict(test)\n",
    "result = pd.DataFrame({\"label\" : test.def_in_12mo.tolist() , \"proba\" : pred_proba})\n",
    "result = result.sort_values(\"proba\", ascending=False)\n",
    "def_rate = test[\"def_in_12mo\"].sum() / len(test[\"def_in_12mo\"])\n",
    "cutoff = int(def_rate * len(test))\n",
    "score = result.iloc[:cutoff][\"label\"].sum() / len(result)\n"
   ]
  },
  {
   "cell_type": "code",
   "execution_count": 28,
   "metadata": {
    "collapsed": false
   },
   "outputs": [
    {
     "data": {
      "text/plain": [
       "0.0030245635672231275"
      ]
     },
     "execution_count": 28,
     "metadata": {},
     "output_type": "execute_result"
    }
   ],
   "source": [
    "score"
   ]
  },
  {
   "cell_type": "code",
   "execution_count": 29,
   "metadata": {
    "collapsed": false
   },
   "outputs": [
    {
     "data": {
      "text/plain": [
       "0.01015039617867438"
      ]
     },
     "execution_count": 29,
     "metadata": {},
     "output_type": "execute_result"
    }
   ],
   "source": [
    "def_rate"
   ]
  },
  {
   "cell_type": "code",
   "execution_count": 30,
   "metadata": {
    "collapsed": false
   },
   "outputs": [],
   "source": [
    "actu = test[\"def_in_12mo\"].tolist()\n",
    "fpr, tpr, thres = roc_curve(actu, pred_proba, pos_label=1)\n",
    "roc_auc = auc(fpr, tpr)"
   ]
  },
  {
   "cell_type": "code",
   "execution_count": 31,
   "metadata": {
    "collapsed": false
   },
   "outputs": [
    {
     "data": {
      "text/plain": [
       "<sklearn.metrics._plot.roc_curve.RocCurveDisplay at 0x2d73ae1b908>"
      ]
     },
     "execution_count": 31,
     "metadata": {},
     "output_type": "execute_result"
    },
    {
     "data": {
      "image/png": "[encoded data removed]",
      "text/plain": [
       "<Figure size 432x288 with 1 Axes>"
      ]
     },
     "metadata": {
      "needs_background": "light"
     },
     "output_type": "display_data"
    }
   ],
   "source": [
    "from sklearn import metrics\n",
    "from matplotlib import pyplot\n",
    "%matplotlib inline\n",
    "\n",
    "display = metrics.RocCurveDisplay(fpr=fpr, tpr=tpr, roc_auc=roc_auc)\n",
    "display.plot()"
   ]
  },
  {
   "cell_type": "markdown",
   "metadata": {},
   "source": [
    "## Calibrating PD"
   ]
  },
  {
   "cell_type": "markdown",
   "metadata": {},
   "source": [
    "Calibration Step - adjust predicted PD to actual level PD"
   ]
  },
  {
   "cell_type": "code",
   "execution_count": 32,
   "metadata": {
    "collapsed": true
   },
   "outputs": [],
   "source": [
    "def calc_adj_factor(result, n_q=50):\n",
    "    \"\"\"\n",
    "    Input:\n",
    "    result : pd.DataFrame() - result should have at least two columns : label / proba (proba : predicted probability from the model) \n",
    "    n_q : number of quantiles to use\n",
    "    \n",
    "    Output: \n",
    "    adjustment : pd.DataFrame() - result would have two columns : bin / adj_factor\n",
    "    bin : bins used for qcut\n",
    "    \"\"\"\n",
    "    pred_bin, bins = pd.qcut(result[\"proba\"], q=n_q, labels=n_q - np.arange(n_q), retbins=True)\n",
    "    adj_result = result.copy(deep=True)\n",
    "    adj_result[\"bin\"] = pred_bin\n",
    "    \n",
    "    # calc adjustment factor\n",
    "    actual_prob = adj_result.groupby(\"bin\", as_index=False)[\"label\"].mean()\n",
    "    pred_prob = adj_result.groupby(\"bin\", as_index=False)[\"proba\"].mean()\n",
    "    adjustment = actual_prob.merge(pred_prob, on=\"bin\", how=\"left\")\n",
    "    adjustment[\"adj_factor\"] = adjustment[\"label\"] / adjustment[\"proba\"]\n",
    "    \n",
    "    return adjustment, bins\n",
    "    \n",
    "    "
   ]
  },
  {
   "cell_type": "code",
   "execution_count": 33,
   "metadata": {
    "collapsed": false
   },
   "outputs": [],
   "source": [
    "adj_fact, bins = calc_adj_factor(result, n_q=50)"
   ]
  },
  {
   "cell_type": "code",
   "execution_count": 34,
   "metadata": {
    "collapsed": true
   },
   "outputs": [],
   "source": [
    "def apply_adj_factor(result, adj_factor, bins):\n",
    "    \"\"\"\n",
    "    Input:\n",
    "    result : pd.DataFrame() - result should have at least one column : proba\n",
    "    adj_factor, bins : output of calc_adj_factor\n",
    "    \n",
    "    output\n",
    "    result : pd.DataFrame() - now proba is adjusted proba\n",
    "    \"\"\"\n",
    "    \n",
    "    adj_result = result.copy(deep=True)\n",
    "    n_q = len(bins)-1\n",
    "    adj_result[\"bin\"] = pd.cut(adj_result[\"proba\"], bins=bins, labels = n_q - np.arange(n_q), include_lowest=True)\n",
    "    # deal with probability that are outside of the bins (which shouldn't be many..)\n",
    "    adj_result.loc[(adj_result[\"bin\"].isnull()) & (adj_result[\"proba\"] < bins.min()), \"bin\"] = n_q\n",
    "    adj_result.loc[(adj_result[\"bin\"].isnull()) & (adj_result[\"proba\"] > bins.max()), \"bin\"] = 1\n",
    "    \n",
    "    adj_result = adj_result.merge(adj_factor[[\"bin\", \"adj_factor\"]], on=\"bin\", how=\"left\")\n",
    "    adj_result[\"proba\"] = adj_result[\"proba\"] * adj_result[\"adj_factor\"]\n",
    "    \n",
    "    return adj_result\n",
    "    \n",
    "    "
   ]
  },
  {
   "cell_type": "code",
   "execution_count": 35,
   "metadata": {
    "collapsed": false
   },
   "outputs": [],
   "source": [
    "adj_result = apply_adj_factor(result, adj_fact, bins)"
   ]
  },
  {
   "cell_type": "markdown",
   "metadata": {},
   "source": [
    "Pre calibrated AUC curve"
   ]
  },
  {
   "cell_type": "code",
   "execution_count": 36,
   "metadata": {
    "collapsed": false
   },
   "outputs": [
    {
     "data": {
      "text/plain": [
       "<sklearn.metrics._plot.roc_curve.RocCurveDisplay at 0x2d746993588>"
      ]
     },
     "execution_count": 36,
     "metadata": {},
     "output_type": "execute_result"
    },
    {
     "data": {
      "image/png": "[encoded data removed]",
      "text/plain": [
       "<Figure size 432x288 with 1 Axes>"
      ]
     },
     "metadata": {
      "needs_background": "light"
     },
     "output_type": "display_data"
    }
   ],
   "source": [
    "fpr, tpr, thres = roc_curve(result[\"label\"], result[\"proba\"], pos_label=1)\n",
    "roc_auc = metrics.auc(fpr, tpr)\n",
    "display = metrics.RocCurveDisplay(fpr=fpr, tpr=tpr, roc_auc=roc_auc)\n",
    "display.plot()"
   ]
  },
  {
   "cell_type": "markdown",
   "metadata": {},
   "source": [
    "Post Calibrated AUC curve"
   ]
  },
  {
   "cell_type": "code",
   "execution_count": 37,
   "metadata": {
    "collapsed": false
   },
   "outputs": [
    {
     "data": {
      "text/plain": [
       "<sklearn.metrics._plot.roc_curve.RocCurveDisplay at 0x2d746ad78d0>"
      ]
     },
     "execution_count": 37,
     "metadata": {},
     "output_type": "execute_result"
    },
    {
     "data": {
      "image/png": "[encoded data removed]",
      "text/plain": [
       "<Figure size 432x288 with 1 Axes>"
      ]
     },
     "metadata": {
      "needs_background": "light"
     },
     "output_type": "display_data"
    }
   ],
   "source": [
    "fpr, tpr, thres = roc_curve(adj_result[\"label\"], adj_result[\"proba\"], pos_label=1)\n",
    "roc_auc = metrics.auc(fpr, tpr)\n",
    "display = metrics.RocCurveDisplay(fpr=fpr, tpr=tpr, roc_auc=roc_auc)\n",
    "display.plot()"
   ]
  },
  {
   "cell_type": "markdown",
   "metadata": {},
   "source": [
    "Total PD comparison : pre-calibration / post-calibration"
   ]
  },
  {
   "cell_type": "markdown",
   "metadata": {},
   "source": [
    "### Random Forest"
   ]
  },
  {
   "cell_type": "code",
   "execution_count": 41,
   "metadata": {
    "collapsed": false,
    "scrolled": false
   },
   "outputs": [
    {
     "name": "stdout",
     "output_type": "stream",
     "text": [
      "Accuracy: 0.9902949683595413\n"
     ]
    }
   ],
   "source": [
    "from sklearn.ensemble import RandomForestClassifier\n",
    "\n",
    "rf_clf=RandomForestClassifier(n_estimators=20, min_samples_leaf=45, max_depth=10)\n",
    "rf_clf.fit(train_X,train_Y)\n",
    "\n",
    "y_pred=rf_clf.predict(test_X)\n"
   ]
  },
  {
   "cell_type": "code",
   "execution_count": 166,
   "metadata": {
    "collapsed": false
   },
   "outputs": [],
   "source": [
    "rf_proba = rf_clf.predict_proba(test_X)[:,1]"
   ]
  },
  {
   "cell_type": "code",
   "execution_count": 44,
   "metadata": {
    "collapsed": false,
    "scrolled": true
   },
   "outputs": [
    {
     "data": {
      "text/plain": [
       "<sklearn.metrics._plot.roc_curve.RocCurveDisplay at 0x2d74811ecc0>"
      ]
     },
     "execution_count": 44,
     "metadata": {},
     "output_type": "execute_result"
    },
    {
     "data": {
      "image/png": "[encoded data removed]",
      "text/plain": [
       "<Figure size 432x288 with 1 Axes>"
      ]
     },
     "metadata": {
      "needs_background": "light"
     },
     "output_type": "display_data"
    }
   ],
   "source": [
    "fpr, tpr, thres = roc_curve(test_Y, rf_clf.predict_proba(test_X)[:,1], pos_label=1)\n",
    "roc_auc = metrics.auc(fpr, tpr)\n",
    "display = metrics.RocCurveDisplay(fpr=fpr, tpr=tpr, roc_auc=roc_auc)\n",
    "display.plot()"
   ]
  },
  {
   "cell_type": "markdown",
   "metadata": {},
   "source": [
    "### Decision Tree"
   ]
  },
  {
   "cell_type": "code",
   "execution_count": 46,
   "metadata": {
    "collapsed": true
   },
   "outputs": [],
   "source": [
    "from sklearn.tree import DecisionTreeClassifier"
   ]
  },
  {
   "cell_type": "code",
   "execution_count": 47,
   "metadata": {
    "collapsed": false
   },
   "outputs": [],
   "source": [
    "dt_clf = DecisionTreeClassifier(criterion=\"gini\", max_depth=10, min_samples_split=45, min_weight_fraction_leaf=0.00)\n",
    "dt_clf = dt_clf.fit(train_X, train_Y)\n"
   ]
  },
  {
   "cell_type": "code",
   "execution_count": 48,
   "metadata": {
    "collapsed": false,
    "scrolled": false
   },
   "outputs": [
    {
     "data": {
      "text/plain": [
       "<sklearn.metrics._plot.roc_curve.RocCurveDisplay at 0x2d74818c390>"
      ]
     },
     "execution_count": 48,
     "metadata": {},
     "output_type": "execute_result"
    },
    {
     "data": {
      "image/png": "[encoded data removed]",
      "text/plain": [
       "<Figure size 432x288 with 1 Axes>"
      ]
     },
     "metadata": {
      "needs_background": "light"
     },
     "output_type": "display_data"
    }
   ],
   "source": [
    "fpr, tpr, thres = roc_curve(test_Y, dt_clf.predict_proba(test_X)[:,1], pos_label=1)\n",
    "roc_auc = metrics.auc(fpr, tpr)\n",
    "display = metrics.RocCurveDisplay(fpr=fpr, tpr=tpr, roc_auc=roc_auc)\n",
    "display.plot()"
   ]
  },
  {
   "cell_type": "code",
   "execution_count": null,
   "metadata": {
    "collapsed": true
   },
   "outputs": [],
   "source": [
    "dt_proba = dt_clf.predict_proba(test_X)[:,1]\n",
    "dt_result=pd.DataFrame({\"label\" : test_Y, \"proba\": dt_proba})"
   ]
  },
  {
   "cell_type": "code",
   "execution_count": 142,
   "metadata": {
    "collapsed": true
   },
   "outputs": [],
   "source": [
    "def z_score(df):    \n",
    "    #clip data\n",
    "    df_zscore = pd.DataFrame()\n",
    "\n",
    "    df_zscore[\"wc_net_to_asst_tot\"] = df[\"wc_net\"] / df[\"asst_tot\"]\n",
    "    df_zscore[\"ebitda_to_asst_tot\"] = df[\"ebitda\"] / df[\"asst_tot\"]\n",
    "    df_zscore[\"RE_to_asst_tot\"] = df[\"RE\"] / df[\"asst_tot\"]\n",
    "    df_zscore[\"Sales_to_asst_tot\"] = df[\"Sales\"] / df[\"asst_tot\"]\n",
    "    df_zscore[\"BVE_to_debt_tot\"] = (df[\"eqty_tot\"] / (df[\"debt_fin_st\"] + df[\"debt_fin_lt\"])).where(df[\"eqty_tot\"] != 0,0)\n",
    "\n",
    "    for col in df_zscore.columns:\n",
    "        temp_arr = sorted(df_zscore[col].unique())\n",
    "        df_zscore[col] = np.clip(df_zscore[col], a_min=temp_arr[1], a_max=temp_arr[-2])\n",
    "\n",
    "    #Predictions using Z-Score Private Firms 1993\n",
    "    zscore_weights = {\"wc_net_to_asst_tot\":0.717, \"RE_to_asst_tot\":0.847, \"ebitda_to_asst_tot\":3.107, \"Sales_to_asst_tot\":0.998, \"BVE_to_debt_tot\":0.420}\n",
    "\n",
    "    z_score = df_zscore[\"wc_net_to_asst_tot\"] * zscore_weights[\"wc_net_to_asst_tot\"] + df_zscore[\"RE_to_asst_tot\"] * zscore_weights[\"RE_to_asst_tot\"] + df_zscore[\"ebitda_to_asst_tot\"] * zscore_weights[\"ebitda_to_asst_tot\"] + df_zscore[\"Sales_to_asst_tot\"] * zscore_weights[\"Sales_to_asst_tot\"] + df_zscore[\"BVE_to_debt_tot\"] * zscore_weights[\"BVE_to_debt_tot\"]\n",
    "\n",
    "    return z_score"
   ]
  },
  {
   "cell_type": "markdown",
   "metadata": {},
   "source": [
    "### Z-Score"
   ]
  },
  {
   "cell_type": "code",
   "execution_count": 149,
   "metadata": {
    "collapsed": false
   },
   "outputs": [],
   "source": [
    "new_df = df.sort_values(\"stmt_date\")\n",
    "new_df = new_df.sort_values([\"id\", \"stmt_date\"])\n",
    "\n",
    "new_df[\"RE\"] = new_df.groupby([\"id\"])[\"profit\"].cumsum()\n",
    "new_df[\"Sales\"] = new_df[\"prof_operations\"] + df[\"COGS\"]\n",
    "\n",
    "    \n",
    "\n",
    "z_train = new_df.iloc[:800000]\n",
    "z_test = new_df.iloc[800000:]\n",
    "\n",
    "z_train_X = z_train[[col for col in train.columns if col!=\"def_in_12mo\"]]\n",
    "z_train_Y = z_train[\"def_in_12mo\"]\n",
    "z_test_X = z_test[[col for col in test.columns if col!=\"def_in_12mo\"]]\n",
    "z_test_Y = z_test[\"def_in_12mo\"]\n",
    "\n",
    "z_score_test = z_score(z_test_X)\n",
    "\n",
    "res_z = pd.DataFrame({\"label\" : z_test.def_in_12mo.tolist() , \"proba\" : z_score_test.tolist()})\n",
    "res_z = res_z.sort_values(\"proba\", ascending=False)"
   ]
  },
  {
   "cell_type": "markdown",
   "metadata": {},
   "source": [
    "### Roc CURVE for all"
   ]
  },
  {
   "cell_type": "code",
   "execution_count": 209,
   "metadata": {
    "collapsed": false
   },
   "outputs": [
    {
     "data": {
      "text/plain": [
       "<matplotlib.legend.Legend at 0x19c09edc748>"
      ]
     },
     "execution_count": 209,
     "metadata": {},
     "output_type": "execute_result"
    },
    {
     "data": {
      "image/png": "[encoded data removed]",
      "text/plain": [
       "<Figure size 432x288 with 1 Axes>"
      ]
     },
     "metadata": {
      "needs_background": "light"
     },
     "output_type": "display_data"
    }
   ],
   "source": [
    "plt.figure(0).clf()\n",
    "\n",
    "#fit logistic regression model and plot ROC curve\n",
    "y_pred = result[\"proba\"]\n",
    "fpr, tpr, _ = metrics.roc_curve(result[\"label\"], y_pred)\n",
    "auc = round(metrics.roc_auc_score(result[\"label\"], y_pred), 4)\n",
    "plt.plot(fpr,tpr,label=\"Logistic Regression, AUC=\"+str(auc))\n",
    "\n",
    "#fit RF and plot ROC curve\n",
    "y_pred = rf_clf.predict_proba(test_X)[:, 1]\n",
    "fpr, tpr, _ = metrics.roc_curve(test_Y, y_pred)\n",
    "auc = round(metrics.roc_auc_score(test_Y, y_pred), 4)\n",
    "plt.plot(fpr,tpr,label=\"RandomForest, AUC=\"+str(auc))\n",
    "\n",
    "#fit DT and plot ROC curve\n",
    "y_pred = dt_clf.predict_proba(test_X)[:, 1]\n",
    "fpr, tpr, _ = metrics.roc_curve(test_Y, y_pred)\n",
    "auc = round(metrics.roc_auc_score(test_Y, y_pred), 4)\n",
    "plt.plot(fpr,tpr,label=\"DecisionTree, AUC=\"+str(auc))\n",
    "\n",
    "#calibrated\n",
    "y_pred = adj_res_z[\"proba\"]\n",
    "fpr, tpr, _ = metrics.roc_curve(adj_res_z[\"label\"], y_pred)\n",
    "auc = round(metrics.roc_auc_score(adj_res_z[\"label\"], y_pred), 4)\n",
    "plt.plot(fpr,tpr,label=\"Z'-score, AUC=\"+str(auc))\n",
    "\n",
    "#add legend\n",
    "plt.legend()"
   ]
  },
  {
   "cell_type": "markdown",
   "metadata": {},
   "source": [
    "### Shap Value"
   ]
  },
  {
   "cell_type": "code",
   "execution_count": 43,
   "metadata": {
    "collapsed": true
   },
   "outputs": [],
   "source": [
    "shap_test = test_X.iloc[:10000]"
   ]
  },
  {
   "cell_type": "code",
   "execution_count": 87,
   "metadata": {
    "collapsed": false
   },
   "outputs": [
    {
     "name": "stderr",
     "output_type": "stream",
     "text": [
      "Permutation explainer: 10001it [1:10:54,  2.34it/s]\n"
     ]
    }
   ],
   "source": [
    "import shap\n",
    "explainer = shap.Explainer(res.predict, shap_test)\n",
    "shap_values=explainer(shap_test)\n"
   ]
  },
  {
   "cell_type": "code",
   "execution_count": 88,
   "metadata": {
    "collapsed": false
   },
   "outputs": [
    {
     "data": {
      "image/png": "[encoded data removed]",
      "text/plain": [
       "<Figure size 576x684 with 2 Axes>"
      ]
     },
     "metadata": {
      "needs_background": "light"
     },
     "output_type": "display_data"
    }
   ],
   "source": [
    "shap.summary_plot(shap_values, show=True)"
   ]
  },
  {
   "cell_type": "code",
   "execution_count": 214,
   "metadata": {
    "collapsed": false
   },
   "outputs": [
    {
     "name": "stderr",
     "output_type": "stream",
     "text": [
      "Permutation explainer: 10001it [19:45,  8.36it/s]\n"
     ]
    },
    {
     "data": {
      "image/png": "[encoded data removed]",
      "text/plain": [
       "<Figure size 576x684 with 2 Axes>"
      ]
     },
     "metadata": {
      "needs_background": "light"
     },
     "output_type": "display_data"
    }
   ],
   "source": [
    "import shap\n",
    "explainer = shap.Explainer(rf_clf.predict, shap_test)\n",
    "shap_values=explainer(shap_test)\n",
    "shap.summary_plot(shap_values, show=True)"
   ]
  },
  {
   "cell_type": "markdown",
   "metadata": {},
   "source": [
    "### BootStrap testing"
   ]
  },
  {
   "cell_type": "code",
   "execution_count": 50,
   "metadata": {
    "collapsed": true
   },
   "outputs": [],
   "source": [
    "import matplotlib.pyplot as plt"
   ]
  },
  {
   "cell_type": "code",
   "execution_count": 51,
   "metadata": {
    "collapsed": false
   },
   "outputs": [
    {
     "data": {
      "text/plain": [
       "Text(0.5, 1.0, 'RF_bootstrap')"
      ]
     },
     "execution_count": 51,
     "metadata": {},
     "output_type": "execute_result"
    },
    {
     "data": {
      "image/png": "[encoded data removed]",
      "text/plain": [
       "<Figure size 432x288 with 1 Axes>"
      ]
     },
     "metadata": {
      "needs_background": "light"
     },
     "output_type": "display_data"
    }
   ],
   "source": [
    "from sklearn.utils import resample\n",
    "\n",
    "plt.figure(1).clf()\n",
    "\n",
    "rf_auc=[]\n",
    "for i in range(20):\n",
    "    rs_test_x, rs_test_y = resample(test_X, test_Y, n_samples=100000, replace=True, random_state=i)\n",
    "    rs_y_pred = rf_clf.predict_proba(rs_test_x)[:, 1]\n",
    "    fpr, tpr, _ = metrics.roc_curve(rs_test_y, rs_y_pred)\n",
    "    auc = round(metrics.roc_auc_score(rs_test_y, rs_y_pred), 4)\n",
    "    plt.plot(fpr,tpr,label=\"RandomForest, AUC=\"+str(auc), linewidth=0.7)\n",
    "    rf_auc.append(auc)\n",
    "    \n",
    "#add legend\n",
    "plt.title(\"RF_bootstrap\")"
   ]
  },
  {
   "cell_type": "code",
   "execution_count": 52,
   "metadata": {
    "collapsed": false
   },
   "outputs": [
    {
     "data": {
      "text/plain": [
       "Text(0.5, 1.0, 'DT_bootstrap')"
      ]
     },
     "execution_count": 52,
     "metadata": {},
     "output_type": "execute_result"
    },
    {
     "data": {
      "image/png": "[encoded data removed]",
      "text/plain": [
       "<Figure size 432x288 with 1 Axes>"
      ]
     },
     "metadata": {
      "needs_background": "light"
     },
     "output_type": "display_data"
    }
   ],
   "source": [
    "from sklearn.utils import resample\n",
    "\n",
    "plt.figure(1).clf()\n",
    "\n",
    "dt_auc=[]\n",
    "\n",
    "for i in range(20):\n",
    "    rs_test_x, rs_test_y = resample(test_X, test_Y, n_samples=100000, replace=True, random_state=i)\n",
    "    rs_y_pred = dt_clf.predict_proba(rs_test_x)[:, 1]\n",
    "    fpr, tpr, _ = metrics.roc_curve(rs_test_y, rs_y_pred)\n",
    "    auc = round(metrics.roc_auc_score(rs_test_y, rs_y_pred), 4)\n",
    "    plt.plot(fpr,tpr,label=\"RandomForest, AUC=\"+str(auc), linewidth=0.7)\n",
    "    dt_auc.append(auc)\n",
    "    \n",
    "#add legend\n",
    "plt.title(\"DT_bootstrap\")"
   ]
  },
  {
   "cell_type": "code",
   "execution_count": 53,
   "metadata": {
    "collapsed": false
   },
   "outputs": [
    {
     "data": {
      "text/plain": [
       "Text(0.5, 1.0, 'lr_bootstrap')"
      ]
     },
     "execution_count": 53,
     "metadata": {},
     "output_type": "execute_result"
    },
    {
     "data": {
      "image/png": "[encoded data removed]",
      "text/plain": [
       "<Figure size 432x288 with 1 Axes>"
      ]
     },
     "metadata": {
      "needs_background": "light"
     },
     "output_type": "display_data"
    }
   ],
   "source": [
    "from sklearn.utils import resample\n",
    "\n",
    "plt.figure(1).clf()\n",
    "lr_auc = []\n",
    "\n",
    "for i in range(20):\n",
    "    rs_test_x, rs_test_y = resample(test_X, test_Y, n_samples=100000, replace=True, random_state=i)\n",
    "    rs_y_pred = res.predict(rs_test_x)\n",
    "    fpr, tpr, _ = metrics.roc_curve(rs_test_y, rs_y_pred)\n",
    "    auc = round(metrics.roc_auc_score(rs_test_y, rs_y_pred), 4)\n",
    "    plt.plot(fpr,tpr,label=\"RandomForest, AUC=\"+str(auc), linewidth=0.7)\n",
    "    lr_auc.append(auc)\n",
    "    \n",
    "#add legend\n",
    "plt.title(\"lr_bootstrap\")"
   ]
  },
  {
   "cell_type": "code",
   "execution_count": 54,
   "metadata": {
    "collapsed": false
   },
   "outputs": [
    {
     "name": "stdout",
     "output_type": "stream",
     "text": [
      "Mean AUC for LR : 0.823\n",
      "STD AUC for LR : 0.0053\n",
      "Mean AUC for RF : 0.8821\n",
      "STD AUC for RF : 0.0051\n",
      "Mean AUC for DT : 0.8585\n",
      "STD AUC for DT : 0.0059\n"
     ]
    }
   ],
   "source": [
    "print(\"Mean AUC for LR : %s\" % str(round(np.mean(lr_auc), 4)))\n",
    "print(\"STD AUC for LR : %s\" % str(round(np.std(lr_auc), 4)))\n",
    "print(\"Mean AUC for RF : %s\" % str(round(np.mean(rf_auc), 4)))\n",
    "print(\"STD AUC for RF : %s\" % str(round(np.std(rf_auc), 4)))\n",
    "print(\"Mean AUC for DT : %s\" % str(round(np.mean(dt_auc), 4)))\n",
    "print(\"STD AUC for DT : %s\" % str(round(np.std(dt_auc), 4)))"
   ]
  },
  {
   "cell_type": "code",
   "execution_count": 58,
   "metadata": {
    "collapsed": false
   },
   "outputs": [],
   "source": [
    "pd.Series(sorted(train_X.columns)).to_clipboard()"
   ]
  },
  {
   "cell_type": "markdown",
   "metadata": {},
   "source": [
    "### Final Training of Model and Calibration Parameters"
   ]
  },
  {
   "cell_type": "code",
   "execution_count": 62,
   "metadata": {
    "collapsed": false
   },
   "outputs": [
    {
     "data": {
      "text/plain": [
       "0         0\n",
       "260538    0\n",
       "809049    0\n",
       "260544    0\n",
       "809046    0\n",
       "         ..\n",
       "352746    0\n",
       "85087     0\n",
       "85064     1\n",
       "352752    0\n",
       "352807    0\n",
       "Name: def_in_12mo, Length: 817305, dtype: int64"
      ]
     },
     "execution_count": 62,
     "metadata": {},
     "output_type": "execute_result"
    }
   ],
   "source": [
    "train_Y"
   ]
  },
  {
   "cell_type": "code",
   "execution_count": 61,
   "metadata": {
    "collapsed": false
   },
   "outputs": [
    {
     "data": {
      "text/plain": [
       "0         0\n",
       "260538    0\n",
       "809049    0\n",
       "260544    0\n",
       "809046    0\n",
       "         ..\n",
       "778092    0\n",
       "297783    0\n",
       "297777    0\n",
       "778022    0\n",
       "789691    0\n",
       "Name: def_in_12mo, Length: 1021632, dtype: int64"
      ]
     },
     "execution_count": 61,
     "metadata": {},
     "output_type": "execute_result"
    }
   ],
   "source": [
    "pd.concat([train_Y, test_Y])"
   ]
  },
  {
   "cell_type": "code",
   "execution_count": 129,
   "metadata": {
    "collapsed": false
   },
   "outputs": [
    {
     "data": {
      "text/plain": [
       "RandomForestClassifier(max_depth=10, min_samples_leaf=45, n_estimators=20)"
      ]
     },
     "execution_count": 129,
     "metadata": {},
     "output_type": "execute_result"
    }
   ],
   "source": [
    "from sklearn.ensemble import RandomForestClassifier\n",
    "\n",
    "train_X = train_X[sorted(train_X.columns)]\n",
    "test_X =  test_X[sorted(test_X.columns)]\n",
    "\n",
    "\n",
    "rf_clf_fin=RandomForestClassifier(n_estimators=20, min_samples_leaf=45, max_depth=10)\n",
    "rf_clf_fin.fit(pd.concat([train_X, test_X]), pd.concat([train_Y,test_Y]))\n",
    "\n"
   ]
  },
  {
   "cell_type": "code",
   "execution_count": 84,
   "metadata": {
    "collapsed": true
   },
   "outputs": [],
   "source": [
    "rf_proba_fin = rf_clf_fin.predict_proba(pd.concat([train_X, test_X]))[:, 1]\n",
    "rf_result_fin=pd.DataFrame({\"label\" : pd.concat([train_Y, test_Y]), \"proba\": rf_proba_fin})"
   ]
  },
  {
   "cell_type": "code",
   "execution_count": 85,
   "metadata": {
    "collapsed": false
   },
   "outputs": [],
   "source": [
    "adj_fact_fin, bins_fin = calc_adj_factor(rf_result_fin, n_q=50)\n",
    "adj_result_fin = apply_adj_factor(rf_result_fin, adj_fact_fin, bins_fin)\n"
   ]
  },
  {
   "cell_type": "code",
   "execution_count": 94,
   "metadata": {
    "collapsed": false
   },
   "outputs": [],
   "source": [
    "adj_fact_fin.to_csv(data_dir + \"adj_fact.csv\")\n",
    "pd.DataFrame({\"bins\" : bins_fin}).to_csv(data_dir + \"adj_bin.csv\")\n"
   ]
  },
  {
   "cell_type": "code",
   "execution_count": 95,
   "metadata": {
    "collapsed": false
   },
   "outputs": [
    {
     "data": {
      "text/plain": [
       "0.01215701935726369"
      ]
     },
     "execution_count": 95,
     "metadata": {},
     "output_type": "execute_result"
    }
   ],
   "source": [
    "adj_result_fin.proba.mean()"
   ]
  },
  {
   "cell_type": "code",
   "execution_count": 76,
   "metadata": {
    "collapsed": false
   },
   "outputs": [],
   "source": [
    "rf_result=pd.DataFrame({\"label\" : test_Y, \"proba\": rf_clf.predict_proba(test_X)[:,1]})\n",
    "adj_result_2 = apply_adj_factor(rf_result, adj_fact_fin, bins_fin)\n"
   ]
  },
  {
   "cell_type": "code",
   "execution_count": 77,
   "metadata": {
    "collapsed": false
   },
   "outputs": [
    {
     "data": {
      "text/plain": [
       "0.0154705562557205"
      ]
     },
     "execution_count": 77,
     "metadata": {},
     "output_type": "execute_result"
    }
   ],
   "source": [
    "adj_result_2.proba.mean()"
   ]
  },
  {
   "cell_type": "code",
   "execution_count": 130,
   "metadata": {
    "collapsed": true
   },
   "outputs": [],
   "source": [
    "pkl_filename = \"rf_clf_fin.pkl\"\n",
    "with open(pkl_filename, 'wb') as file:\n",
    "    pickle.dump(rf_clf_fin, file)\n",
    " "
   ]
  },
  {
   "cell_type": "code",
   "execution_count": 131,
   "metadata": {
    "collapsed": false
   },
   "outputs": [
    {
     "data": {
      "text/plain": [
       "RandomForestClassifier(max_depth=10, min_samples_leaf=25, n_estimators=20)"
      ]
     },
     "execution_count": 131,
     "metadata": {},
     "output_type": "execute_result"
    }
   ],
   "source": [
    "from sklearn.ensemble import RandomForestClassifier\n",
    "\n",
    "train_X = train_X[sorted(train_X.columns)]\n",
    "test_X =  test_X[sorted(test_X.columns)]\n",
    "\n",
    "\n",
    "rf_clf=RandomForestClassifier(n_estimators=20, min_samples_leaf=25, max_depth=10)\n",
    "rf_clf.fit(train_X, train_Y)"
   ]
  },
  {
   "cell_type": "code",
   "execution_count": 137,
   "metadata": {
    "collapsed": false
   },
   "outputs": [
    {
     "data": {
      "text/plain": [
       "<sklearn.metrics._plot.roc_curve.RocCurveDisplay at 0x2d739e28278>"
      ]
     },
     "execution_count": 137,
     "metadata": {},
     "output_type": "execute_result"
    },
    {
     "data": {
      "image/png": "[encoded data removed]",
      "text/plain": [
       "<Figure size 432x288 with 1 Axes>"
      ]
     },
     "metadata": {
      "needs_background": "light"
     },
     "output_type": "display_data"
    }
   ],
   "source": [
    "rf_result=pd.DataFrame({\"label\" : test_Y, \"proba\": rf_clf_fin.predict_proba(test_X)[:,1]})\n",
    "adj_result_2 = apply_adj_factor(rf_result, adj_fact_fin, bins_fin)\n",
    "\n",
    "from sklearn import metrics\n",
    "fpr, tpr, thres = metrics.roc_curve(test_Y, rf_result[\"proba\"], pos_label=1)\n",
    "roc_auc = metrics.auc(fpr, tpr)\n",
    "display = metrics.RocCurveDisplay(fpr=fpr, tpr=tpr, roc_auc=roc_auc)\n",
    "display.plot()"
   ]
  },
  {
   "cell_type": "code",
   "execution_count": null,
   "metadata": {
    "collapsed": true
   },
   "outputs": [],
   "source": []
  }
 ],
 "metadata": {
  "kernelspec": {
   "display_name": "FBSDE",
   "language": "python",
   "name": "fbsde"
  },
  "language_info": {
   "codemirror_mode": {
    "name": "ipython",
    "version": 3
   },
   "file_extension": ".py",
   "mimetype": "text/x-python",
   "name": "python",
   "nbconvert_exporter": "python",
   "pygments_lexer": "ipython3",
   "version": "3.6.13"
  }
 },
 "nbformat": 4,
 "nbformat_minor": 1
}
