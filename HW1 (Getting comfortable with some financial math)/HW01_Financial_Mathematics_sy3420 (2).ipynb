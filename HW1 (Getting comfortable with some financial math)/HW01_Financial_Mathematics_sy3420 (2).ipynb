{
 "cells": [
  {
   "cell_type": "markdown",
   "metadata": {},
   "source": [
    "<span style=\"font-family: Palatino; font-size: 40px; color:purple\">\n",
    "    Homework 1: How good are financial models?\n",
    "</span>"
   ]
  },
  {
   "cell_type": "code",
   "execution_count": 2,
   "metadata": {},
   "outputs": [],
   "source": [
    "import pandas as pd\n",
    "import numpy  as np\n",
    "import matplotlib.pyplot as plt\n",
    "import scipy.stats as stats\n",
    "from datetime import datetime\n",
    "\n",
    "import copy as cp\n",
    "\n",
    "DATA_PATH = \"./HW/FinancialMath/data/\""
   ]
  },
  {
   "cell_type": "code",
   "execution_count": 3,
   "metadata": {},
   "outputs": [],
   "source": [
    "HW01_SPX = pd.read_csv(\"HW01_SPX.csv\")\n",
    "SPX_put = pd.read_csv(\"SPX_put_X20210716.csv\")"
   ]
  },
  {
   "cell_type": "markdown",
   "metadata": {},
   "source": [
    "#  <span style=\"font-family: Palatino; font-size: 30px; color:purple\">Getting comfortable with some financial math </span>"
   ]
  },
  {
   "cell_type": "markdown",
   "metadata": {},
   "source": [
    "In this home work, you will get some experience working with some common financial mathematics and then have a chance to see if you can use this to do some financial data mining.\n",
    "\n",
    "(Note that for purposes of this home work, we are making some simplifying assumptions about the data (e.g., that we can ignore weekends and holidays; that we don't need write extra code to make our functions fail gracefully, such as code  to check to see if a date is out of range; etc.)"
   ]
  },
  {
   "cell_type": "markdown",
   "metadata": {},
   "source": [
    "## <span style=\"font-family: Palatino; font-size: 24px; color:purple\">Return math </span>"
   ]
  },
  {
   "cell_type": "markdown",
   "metadata": {},
   "source": [
    "### Calculate returns and log returns for the following price series.  Compare the two.  What do you notice?"
   ]
  },
  {
   "cell_type": "markdown",
   "metadata": {},
   "source": [
    "| DOW  | Closing Price |\n",
    "|------|---------------|\n",
    "| Mon  | \\$1.00        |\n",
    "| Tue  | \\$1.50        |\n",
    "| Wed  | \\$1.00        |\n",
    "| Thr  | \\$0.50        |"
   ]
  },
  {
   "cell_type": "markdown",
   "metadata": {},
   "source": [
    "| DOW  | ret     |   log ret |\n",
    "|------|---------|-----------|\n",
    "| Mon  | -       |           |\n",
    "| Tue  |   50\\%  |   40.5\\%  |\n",
    "| Wed  |  -30\\%  |  -40.5\\%  |\n",
    "| Thr  |  -50\\%  |  -40.5\\%  |    "
   ]
  },
  {
   "cell_type": "markdown",
   "metadata": {},
   "source": []
  },
  {
   "cell_type": "code",
   "execution_count": 4,
   "metadata": {},
   "outputs": [
    {
     "name": "stdout",
     "output_type": "stream",
     "text": [
      "Return for Tuesday is $ 0.5\n",
      "Return for Wednesday is $ -0.3333333333333333\n",
      "Return for Thursday is $ -0.5\n"
     ]
    }
   ],
   "source": [
    "#return\n",
    "return_t = (1.5-1)/1\n",
    "return_w = (1-1.5)/1.5\n",
    "return_th = (0.5-1)/1\n",
    "\n",
    "print(\"Return for Tuesday is $\",return_t)\n",
    "print(\"Return for Wednesday is $\",return_w)\n",
    "print(\"Return for Thursday is $\",return_th)"
   ]
  },
  {
   "cell_type": "markdown",
   "metadata": {},
   "source": [
    "Return for Tuesday is $ 0.5\n",
    "\n",
    "Return for Wednesday is $ -0.3333333333333333\n",
    "\n",
    "Return for Thursday is $ -0.5"
   ]
  },
  {
   "cell_type": "code",
   "execution_count": 5,
   "metadata": {},
   "outputs": [
    {
     "name": "stdout",
     "output_type": "stream",
     "text": [
      "Log Return for Tuesday is 40.546510810816436 %\n",
      "Log Return for Wednesday is -40.54651081081644 %\n",
      "Log Return for Thursday is -69.31471805599453 %\n"
     ]
    }
   ],
   "source": [
    "#log return\n",
    "log_t = np.log(1.5/1)*100\n",
    "log_w = np.log(1/1.5)*100\n",
    "log_th = np.log(0.5/1)*100\n",
    "\n",
    "print(\"Log Return for Tuesday is\", log_t,\"%\")\n",
    "print(\"Log Return for Wednesday is\", log_w,\"%\")\n",
    "print(\"Log Return for Thursday is\", log_th,\"%\")"
   ]
  },
  {
   "cell_type": "markdown",
   "metadata": {},
   "source": [
    "**Read in the file `HW01_SPX.csv`.**"
   ]
  },
  {
   "cell_type": "markdown",
   "metadata": {},
   "source": [
    "### Calculate returns and log returns for the closing price and plot the distribution of the log returns. What do you notice?  (Hint: Use a large bin number like 41 or 51.)  Add two new columns to your S&P data frame: `ret` and  `log_ret`."
   ]
  },
  {
   "cell_type": "code",
   "execution_count": 41,
   "metadata": {},
   "outputs": [
    {
     "data": {
      "text/html": [
       "<div>\n",
       "<style scoped>\n",
       "    .dataframe tbody tr th:only-of-type {\n",
       "        vertical-align: middle;\n",
       "    }\n",
       "\n",
       "    .dataframe tbody tr th {\n",
       "        vertical-align: top;\n",
       "    }\n",
       "\n",
       "    .dataframe thead th {\n",
       "        text-align: right;\n",
       "    }\n",
       "</style>\n",
       "<table border=\"1\" class=\"dataframe\">\n",
       "  <thead>\n",
       "    <tr style=\"text-align: right;\">\n",
       "      <th></th>\n",
       "      <th>Date</th>\n",
       "      <th>Open</th>\n",
       "      <th>High</th>\n",
       "      <th>Low</th>\n",
       "      <th>Close</th>\n",
       "      <th>Return</th>\n",
       "      <th>Log_Return</th>\n",
       "    </tr>\n",
       "  </thead>\n",
       "  <tbody>\n",
       "    <tr>\n",
       "      <th>0</th>\n",
       "      <td>2000-01-03</td>\n",
       "      <td>1455.22</td>\n",
       "      <td>1478.00</td>\n",
       "      <td>1438.36</td>\n",
       "      <td>1455.22</td>\n",
       "      <td>NaN</td>\n",
       "      <td>NaN</td>\n",
       "    </tr>\n",
       "    <tr>\n",
       "      <th>1</th>\n",
       "      <td>2000-01-04</td>\n",
       "      <td>1399.42</td>\n",
       "      <td>1455.22</td>\n",
       "      <td>1397.43</td>\n",
       "      <td>1399.42</td>\n",
       "      <td>-0.038345</td>\n",
       "      <td>-0.039099</td>\n",
       "    </tr>\n",
       "    <tr>\n",
       "      <th>2</th>\n",
       "      <td>2000-01-05</td>\n",
       "      <td>1402.11</td>\n",
       "      <td>1413.27</td>\n",
       "      <td>1377.68</td>\n",
       "      <td>1402.11</td>\n",
       "      <td>0.001922</td>\n",
       "      <td>0.001920</td>\n",
       "    </tr>\n",
       "    <tr>\n",
       "      <th>3</th>\n",
       "      <td>2000-01-06</td>\n",
       "      <td>1403.45</td>\n",
       "      <td>1411.90</td>\n",
       "      <td>1392.02</td>\n",
       "      <td>1403.45</td>\n",
       "      <td>0.000956</td>\n",
       "      <td>0.000955</td>\n",
       "    </tr>\n",
       "    <tr>\n",
       "      <th>4</th>\n",
       "      <td>2000-01-07</td>\n",
       "      <td>1441.47</td>\n",
       "      <td>1441.47</td>\n",
       "      <td>1400.53</td>\n",
       "      <td>1441.47</td>\n",
       "      <td>0.027090</td>\n",
       "      <td>0.026730</td>\n",
       "    </tr>\n",
       "    <tr>\n",
       "      <th>...</th>\n",
       "      <td>...</td>\n",
       "      <td>...</td>\n",
       "      <td>...</td>\n",
       "      <td>...</td>\n",
       "      <td>...</td>\n",
       "      <td>...</td>\n",
       "      <td>...</td>\n",
       "    </tr>\n",
       "    <tr>\n",
       "      <th>5414</th>\n",
       "      <td>2021-07-12</td>\n",
       "      <td>4372.41</td>\n",
       "      <td>4386.68</td>\n",
       "      <td>4364.03</td>\n",
       "      <td>4384.63</td>\n",
       "      <td>0.003451</td>\n",
       "      <td>0.003445</td>\n",
       "    </tr>\n",
       "    <tr>\n",
       "      <th>5415</th>\n",
       "      <td>2021-07-13</td>\n",
       "      <td>4381.07</td>\n",
       "      <td>4392.37</td>\n",
       "      <td>4366.92</td>\n",
       "      <td>4369.21</td>\n",
       "      <td>-0.003517</td>\n",
       "      <td>-0.003523</td>\n",
       "    </tr>\n",
       "    <tr>\n",
       "      <th>5416</th>\n",
       "      <td>2021-07-14</td>\n",
       "      <td>4380.11</td>\n",
       "      <td>4393.68</td>\n",
       "      <td>4362.36</td>\n",
       "      <td>4374.30</td>\n",
       "      <td>0.001165</td>\n",
       "      <td>0.001164</td>\n",
       "    </tr>\n",
       "    <tr>\n",
       "      <th>5417</th>\n",
       "      <td>2021-07-15</td>\n",
       "      <td>4369.02</td>\n",
       "      <td>4369.02</td>\n",
       "      <td>4340.70</td>\n",
       "      <td>4360.03</td>\n",
       "      <td>-0.003262</td>\n",
       "      <td>-0.003268</td>\n",
       "    </tr>\n",
       "    <tr>\n",
       "      <th>5418</th>\n",
       "      <td>2021-07-16</td>\n",
       "      <td>4367.43</td>\n",
       "      <td>4375.09</td>\n",
       "      <td>4322.53</td>\n",
       "      <td>4327.16</td>\n",
       "      <td>-0.007539</td>\n",
       "      <td>-0.007568</td>\n",
       "    </tr>\n",
       "  </tbody>\n",
       "</table>\n",
       "<p>5419 rows × 7 columns</p>\n",
       "</div>"
      ],
      "text/plain": [
       "            Date     Open     High      Low    Close    Return  Log_Return\n",
       "0     2000-01-03  1455.22  1478.00  1438.36  1455.22       NaN         NaN\n",
       "1     2000-01-04  1399.42  1455.22  1397.43  1399.42 -0.038345   -0.039099\n",
       "2     2000-01-05  1402.11  1413.27  1377.68  1402.11  0.001922    0.001920\n",
       "3     2000-01-06  1403.45  1411.90  1392.02  1403.45  0.000956    0.000955\n",
       "4     2000-01-07  1441.47  1441.47  1400.53  1441.47  0.027090    0.026730\n",
       "...          ...      ...      ...      ...      ...       ...         ...\n",
       "5414  2021-07-12  4372.41  4386.68  4364.03  4384.63  0.003451    0.003445\n",
       "5415  2021-07-13  4381.07  4392.37  4366.92  4369.21 -0.003517   -0.003523\n",
       "5416  2021-07-14  4380.11  4393.68  4362.36  4374.30  0.001165    0.001164\n",
       "5417  2021-07-15  4369.02  4369.02  4340.70  4360.03 -0.003262   -0.003268\n",
       "5418  2021-07-16  4367.43  4375.09  4322.53  4327.16 -0.007539   -0.007568\n",
       "\n",
       "[5419 rows x 7 columns]"
      ]
     },
     "execution_count": 41,
     "metadata": {},
     "output_type": "execute_result"
    }
   ],
   "source": [
    "HW01_SPX"
   ]
  },
  {
   "cell_type": "code",
   "execution_count": 7,
   "metadata": {},
   "outputs": [],
   "source": [
    "HW01_SPX[\"Return\"] = (HW01_SPX[\"Close\"].pct_change())"
   ]
  },
  {
   "cell_type": "code",
   "execution_count": 8,
   "metadata": {},
   "outputs": [],
   "source": [
    "HW01_SPX[\"Log_Return\"] = (np.log(HW01_SPX[\"Close\"]/HW01_SPX[\"Close\"].shift(1)))\n",
    "\n"
   ]
  },
  {
   "cell_type": "code",
   "execution_count": 9,
   "metadata": {},
   "outputs": [
    {
     "data": {
      "text/plain": [
       "(array([1.000e+00, 0.000e+00, 0.000e+00, 0.000e+00, 1.000e+00, 2.000e+00,\n",
       "        1.000e+00, 0.000e+00, 2.000e+00, 0.000e+00, 2.000e+00, 5.000e+00,\n",
       "        4.000e+00, 8.000e+00, 1.300e+01, 1.600e+01, 4.600e+01, 7.900e+01,\n",
       "        1.380e+02, 2.780e+02, 5.570e+02, 1.238e+03, 1.592e+03, 8.090e+02,\n",
       "        3.530e+02, 1.280e+02, 5.900e+01, 3.100e+01, 2.200e+01, 1.000e+01,\n",
       "        8.000e+00, 3.000e+00, 5.000e+00, 3.000e+00, 0.000e+00, 0.000e+00,\n",
       "        0.000e+00, 2.000e+00, 0.000e+00, 1.000e+00, 1.000e+00]),\n",
       " array([-0.12765214, -0.12186619, -0.11608023, -0.11029428, -0.10450833,\n",
       "        -0.09872237, -0.09293642, -0.08715047, -0.08136451, -0.07557856,\n",
       "        -0.0697926 , -0.06400665, -0.0582207 , -0.05243474, -0.04664879,\n",
       "        -0.04086284, -0.03507688, -0.02929093, -0.02350498, -0.01771902,\n",
       "        -0.01193307, -0.00614711, -0.00036116,  0.00542479,  0.01121075,\n",
       "         0.0169967 ,  0.02278265,  0.02856861,  0.03435456,  0.04014052,\n",
       "         0.04592647,  0.05171242,  0.05749838,  0.06328433,  0.06907028,\n",
       "         0.07485624,  0.08064219,  0.08642814,  0.0922141 ,  0.09800005,\n",
       "         0.10378601,  0.10957196]),\n",
       " <a list of 41 Patch objects>)"
      ]
     },
     "execution_count": 9,
     "metadata": {},
     "output_type": "execute_result"
    },
    {
     "data": {
      "image/png": "[encoded data removed]",
      "text/plain": [
       "<Figure size 432x288 with 1 Axes>"
      ]
     },
     "metadata": {
      "needs_background": "light"
     },
     "output_type": "display_data"
    }
   ],
   "source": [
    "plt.hist(HW01_SPX[\"Log_Return\"], color = 'blue', edgecolor = 'black', bins = 41)\n",
    "\n",
    "\n"
   ]
  },
  {
   "cell_type": "markdown",
   "metadata": {},
   "source": [
    "**The log return distribution somewhat represents a normal distribution.**"
   ]
  },
  {
   "cell_type": "markdown",
   "metadata": {},
   "source": []
  },
  {
   "cell_type": "markdown",
   "metadata": {},
   "source": [
    "#### Plot the returns against the log returns using the same axis limits on the x and y axes.  Write down your observations."
   ]
  },
  {
   "cell_type": "code",
   "execution_count": 10,
   "metadata": {},
   "outputs": [
    {
     "data": {
      "image/png": "[encoded data removed]",
      "text/plain": [
       "<Figure size 432x288 with 1 Axes>"
      ]
     },
     "metadata": {
      "needs_background": "light"
     },
     "output_type": "display_data"
    }
   ],
   "source": [
    "plt.plot(HW01_SPX[\"Return\"], HW01_SPX[\"Log_Return\"], 'ro', markersize = 4)\n",
    "plt.axis([-0.15, 0.15, -0.15,  0.15])\n",
    "plt.show()\n"
   ]
  },
  {
   "cell_type": "markdown",
   "metadata": {},
   "source": [
    "**The observation plot represents a somewhat straight line. This suggests that the returns and log returns have little difference.**"
   ]
  },
  {
   "cell_type": "markdown",
   "metadata": {},
   "source": []
  },
  {
   "cell_type": "markdown",
   "metadata": {},
   "source": [
    "### Calculate the volatility of the equity series over the most recent 30, 90, 120 and 360 days.  For now, you may assume that calendar days are equivalent to trading days (i.e., that there are no days on which trading is not done, and that the last $x$ observations in the data frame represent the last $x$ days).   Has the market become more or less volatile in the past 120 days?"
   ]
  },
  {
   "cell_type": "code",
   "execution_count": 11,
   "metadata": {},
   "outputs": [
    {
     "data": {
      "text/plain": [
       "0.005724051108350765"
      ]
     },
     "execution_count": 11,
     "metadata": {},
     "output_type": "execute_result"
    }
   ],
   "source": [
    "np.std(HW01_SPX[\"Return\"][-30:], ddof=1 )"
   ]
  },
  {
   "cell_type": "code",
   "execution_count": 12,
   "metadata": {},
   "outputs": [
    {
     "data": {
      "text/plain": [
       "0.006948492055594805"
      ]
     },
     "execution_count": 12,
     "metadata": {},
     "output_type": "execute_result"
    }
   ],
   "source": [
    "np.std(HW01_SPX[\"Return\"][-90:],  ddof=1 )"
   ]
  },
  {
   "cell_type": "code",
   "execution_count": 13,
   "metadata": {},
   "outputs": [
    {
     "data": {
      "text/plain": [
       "0.00847155600783947"
      ]
     },
     "execution_count": 13,
     "metadata": {},
     "output_type": "execute_result"
    }
   ],
   "source": [
    "np.std(HW01_SPX[\"Return\"][-120:],  ddof=1 )"
   ]
  },
  {
   "cell_type": "code",
   "execution_count": 14,
   "metadata": {},
   "outputs": [
    {
     "data": {
      "text/plain": [
       "0.018766654064227898"
      ]
     },
     "execution_count": 14,
     "metadata": {},
     "output_type": "execute_result"
    }
   ],
   "source": [
    "np.std(HW01_SPX[\"Return\"][-360:],  ddof=1 )"
   ]
  },
  {
   "cell_type": "markdown",
   "metadata": {},
   "source": [
    "**We can see that volatility increases as the days increase. Therefore, this sugguests that market is becoming more volatile in the past 120 days**"
   ]
  },
  {
   "cell_type": "markdown",
   "metadata": {},
   "source": []
  },
  {
   "cell_type": "markdown",
   "metadata": {},
   "source": [
    "### Repeat this again, but this time for the (end) date 2021-06-21."
   ]
  },
  {
   "cell_type": "code",
   "execution_count": 15,
   "metadata": {},
   "outputs": [
    {
     "data": {
      "text/plain": [
       "0.007965966105401581"
      ]
     },
     "execution_count": 15,
     "metadata": {},
     "output_type": "execute_result"
    }
   ],
   "source": [
    "#30 days\n",
    "np.std(HW01_SPX[\"Return\"][5370:5401],  ddof=1 )"
   ]
  },
  {
   "cell_type": "code",
   "execution_count": 16,
   "metadata": {},
   "outputs": [
    {
     "data": {
      "text/plain": [
       "0.008397351028491025"
      ]
     },
     "execution_count": 16,
     "metadata": {},
     "output_type": "execute_result"
    }
   ],
   "source": [
    "#90 days\n",
    "np.std(HW01_SPX[\"Return\"][5310:5401],  ddof=1 )"
   ]
  },
  {
   "cell_type": "code",
   "execution_count": 17,
   "metadata": {},
   "outputs": [
    {
     "data": {
      "text/plain": [
       "0.008711173331491202"
      ]
     },
     "execution_count": 17,
     "metadata": {},
     "output_type": "execute_result"
    }
   ],
   "source": [
    "#120 days\n",
    "np.std(HW01_SPX[\"Return\"][5280:5401],  ddof=1 )"
   ]
  },
  {
   "cell_type": "code",
   "execution_count": 18,
   "metadata": {},
   "outputs": [
    {
     "data": {
      "text/plain": [
       "0.01880583659956322"
      ]
     },
     "execution_count": 18,
     "metadata": {},
     "output_type": "execute_result"
    }
   ],
   "source": [
    "np.std(HW01_SPX[\"Return\"][5040:5401],  ddof=1 )"
   ]
  },
  {
   "cell_type": "markdown",
   "metadata": {},
   "source": [
    "**We can see that volatility increases as the days increase. Therefore, this sugguests that market is becoming more volatile.**"
   ]
  },
  {
   "cell_type": "markdown",
   "metadata": {},
   "source": [
    "# <span style=\"font-family: Palatino; font-size: 24px; color:purple\"> Valuing options </span>"
   ]
  },
  {
   "cell_type": "markdown",
   "metadata": {},
   "source": [
    "Recall that we may calculate the value of a European put, $P(\\cdot)$, under the Black-Scholes-Merton pricing framework as:\n",
    "\n",
    "\\begin{equation}\n",
    "\tP= \\ N(- d_2)K e^{-rt}  - N(-d_1) S ,~\\text{where} \n",
    "\\end{equation}\n",
    "\n",
    "\\begin{equation}\n",
    "\td_1= \\frac{1}{\\sigma \\sqrt{t}} \\left[\\ln{\\left(\\frac{S}{K}\\right)} + \\left(r + \\frac{\\sigma^2}{2} t\\right) \\right],\n",
    "\\end{equation}\n",
    "\n",
    "\\begin{eqnarray*}\n",
    "\td_2 &=& \\frac{1}{\\sigma \\sqrt{t}} \\left[\\ln{\\left(\\frac{S}{K}\\right)} + \\left(r - \\frac{\\sigma^2}{2} \\right) \\right]\\\\\n",
    "    &=& d_1 - \\sigma t, ~~ \\text{and}\n",
    "\\end{eqnarray*}\n",
    "\n",
    "\\begin{equation}\n",
    "\tN(x)=\\frac{1}{\\sqrt{2\\pi}} \\int_{-\\infty}^{x} e^{-\\frac{1}{2}z^2} dz~ ;\n",
    "\\end{equation}\n",
    "\n",
    "\\noindent and where:\n",
    "\n",
    "\\begin{eqnarray*}\n",
    "\tt\t\t& \\equiv &\\text{the time (in years) between today and the expiration of the option, i.e., $T-t_0$, where, $T$ is the closing date;}\\\\\n",
    "\tS   \t& \\equiv & \\text{the price of the stock today;}\\\\\n",
    "\tK\t\t& \\equiv &\\text{the price at which the option holder may sell the stock at time $t$;}\\\\\n",
    "\t\\sigma\t& \\equiv &\\text{the property-specific price volatility (e.g., as measured by the volatility of the AVM estimates);}\\\\\n",
    "\tr\t\t& \\equiv &\\text{the risk free rate (e.g., on U.S. government securites with a maturity date of today+$t$});\\\\ \n",
    "\tN(x)\t\t& \\equiv &\\text{the standard normal cdf evaluated at $x$}; \\text{ and}\\\\\n",
    "\t P      &    =    & P(S,K,\\sigma,r, t) \\equiv \\text{the value of a European put option allowing the holder to sell one share of the underlying stock at price $K$ in $t$ years. } \\\\\n",
    "\t\t\t\t\t&           &\\text{$S$ today at price $K$ at time $t$, given an annualized volatility of $\\sigma$ and a risk-free rate $r$ }.\n",
    "\\end{eqnarray*}\n",
    "\n",
    "Note that $N(x)$ is the standard normal CDF (i.e., mean $\\mu = 0$  and variance $\\sigma^2 = 1$), which we can approximate numerically using the `scipy.stats` function `norm.cdf(x, 0, 1)`. \n"
   ]
  },
  {
   "cell_type": "markdown",
   "metadata": {
    "ExecuteTime": {
     "end_time": "2022-08-09T01:20:58.524337Z",
     "start_time": "2022-08-09T01:20:58.513822Z"
    }
   },
   "source": [
    "### Write a python function `EuroPut(S,K, sigma, r, t)` to price a European put option"
   ]
  },
  {
   "cell_type": "code",
   "execution_count": 19,
   "metadata": {},
   "outputs": [],
   "source": [
    "from scipy.stats import norm\n",
    "import math"
   ]
  },
  {
   "cell_type": "code",
   "execution_count": 20,
   "metadata": {},
   "outputs": [],
   "source": [
    "N = norm.cdf\n",
    "def EuroPut(S, K, sigma, r, t):\n",
    "    d1 = ( (1/(sigma*np.sqrt(t))) * ( np.log(S/K) + (r + (np.power(sigma,2))/2)*t  ))\n",
    "    #d2 = ((np.log(S/K) + (r - ((np.power(sigma, 2))/2))))/sigma*(np.sqrt(t))\n",
    "    d2 = d1 - sigma*np.sqrt(t)\n",
    "    P = N(-d2, 0, 1)*K*math.exp(-r*t) - N(-d1, 0, 1)*S\n",
    "    \n",
    "    return P"
   ]
  },
  {
   "cell_type": "markdown",
   "metadata": {},
   "source": [
    "\n",
    "### Use the function you wrote to price an option on a stock with the following characteristics:"
   ]
  },
  {
   "cell_type": "markdown",
   "metadata": {},
   "source": [
    "\n",
    "\n",
    "\n",
    "|                        |           |\n",
    "|------------------------|-----------|\n",
    "|price today             | \\$20.00   |\n",
    "|exercise price          | \\$35.00   |\n",
    "|time to expiration (yrs)|    1.00   |\n",
    "|volatility              |    0.25   |\n",
    "|risk-free rate          |    0.05   |\n"
   ]
  },
  {
   "cell_type": "code",
   "execution_count": 21,
   "metadata": {},
   "outputs": [
    {
     "data": {
      "text/plain": [
       "13.342106213937623"
      ]
     },
     "execution_count": 21,
     "metadata": {},
     "output_type": "execute_result"
    }
   ],
   "source": [
    "EuroPut(20, 35, 0.25, 0.05, 1.0)"
   ]
  },
  {
   "cell_type": "markdown",
   "metadata": {},
   "source": [
    "#### Plot <br> \n",
    "<b>(a) the price of the put option for volatility values of `[0.05, 0.10, 0.15, 0.20, 0.25, 0.30, 0.35, 0.4]`; and <br> \n",
    "(b) price the put option for time to expiration values of `[0.25, 0.50, 0.75, 1.0, 1.25, 1.5, 2.0]`.</b>\n",
    "\n",
    "_(Two seperate plots)_"
   ]
  },
  {
   "cell_type": "code",
   "execution_count": 22,
   "metadata": {},
   "outputs": [],
   "source": [
    "sig = [0.05, 0.10, 0.15, 0.20, 0.25, 0.30, 0.35, 0.4]\n",
    "time = [0.25, 0.50, 0.75, 1.0, 1.25, 1.5, 2.0]"
   ]
  },
  {
   "cell_type": "code",
   "execution_count": 23,
   "metadata": {},
   "outputs": [
    {
     "name": "stdout",
     "output_type": "stream",
     "text": [
      "13.293029857524992\n",
      "13.293029939451085\n",
      "13.293367798740647\n",
      "13.301895472341705\n",
      "13.342106213937623\n",
      "13.43384914500923\n",
      "13.582201279981447\n",
      "13.782727769860102\n"
     ]
    }
   ],
   "source": [
    "#the price of the put option for volatility values\n",
    "print(EuroPut(20, 35, 0.05, 0.05, 1.0))\n",
    "print(EuroPut(20, 35, 0.1, 0.05, 1.0))\n",
    "print(EuroPut(20, 35, 0.15, 0.05, 1.0))\n",
    "print(EuroPut(20, 35, 0.2, 0.05, 1.0))\n",
    "print(EuroPut(20, 35, 0.25, 0.05, 1.0))\n",
    "print(EuroPut(20, 35, 0.3, 0.05, 1.0))\n",
    "print(EuroPut(20, 35, 0.35, 0.05, 1.0))\n",
    "print(EuroPut(20, 35, 0.4, 0.05, 1.0))\n"
   ]
  },
  {
   "cell_type": "code",
   "execution_count": 24,
   "metadata": {},
   "outputs": [
    {
     "data": {
      "image/png": "[encoded data removed]",
      "text/plain": [
       "<Figure size 432x288 with 1 Axes>"
      ]
     },
     "metadata": {
      "needs_background": "light"
     },
     "output_type": "display_data"
    }
   ],
   "source": [
    "price_v = [(EuroPut(20, 35, 0.05, 0.05, 1.0)), (EuroPut(20, 35, 0.1, 0.05, 1.0)), (EuroPut(20, 35, 0.15, 0.05, 1.0)),\n",
    "(EuroPut(20, 35, 0.2, 0.05, 1.0)), (EuroPut(20, 35, 0.25, 0.05, 1.0)), (EuroPut(20, 35, 0.3, 0.05, 1.0)), \n",
    "(EuroPut(20, 35, 0.35, 0.05, 1.0)), (EuroPut(20, 35, 0.4, 0.05, 1.0))]\n",
    "volatility=[0.05, 0.10, 0.15, 0.20, 0.25, 0.30, 0.35, 0.4]    \n",
    "\n",
    "plt.plot(volatility, price_v)\n",
    "plt.title(\"The price of the put option for volatility\")\n",
    "plt.xlabel(\"volatility\")\n",
    "plt.ylabel(\"price\")\n",
    "plt.show()\n",
    "       "
   ]
  },
  {
   "cell_type": "code",
   "execution_count": 25,
   "metadata": {},
   "outputs": [
    {
     "name": "stdout",
     "output_type": "stream",
     "text": [
      "14.565223017285852\n",
      "14.135846920991646\n",
      "13.711826704498435\n",
      "13.301895472341705\n",
      "12.986639208457351\n",
      "12.87565066898544\n",
      "13.401376698250676\n"
     ]
    }
   ],
   "source": [
    "#price the put option for time to expiration values\n",
    "print(EuroPut(20, 35, 0.05, 0.05, 0.25))\n",
    "print(EuroPut(20, 35, 0.1, 0.05, 0.5))\n",
    "print(EuroPut(20, 35, 0.15, 0.05, 0.75))\n",
    "print(EuroPut(20, 35, 0.2, 0.05, 1))\n",
    "print(EuroPut(20, 35, 0.25, 0.05, 1.25))\n",
    "print(EuroPut(20, 35, 0.3, 0.05, 1.5))\n",
    "print(EuroPut(20, 35, 0.35, 0.05, 1.2))"
   ]
  },
  {
   "cell_type": "code",
   "execution_count": 26,
   "metadata": {},
   "outputs": [
    {
     "data": {
      "image/png": "[encoded data removed]",
      "text/plain": [
       "<Figure size 432x288 with 1 Axes>"
      ]
     },
     "metadata": {
      "needs_background": "light"
     },
     "output_type": "display_data"
    }
   ],
   "source": [
    "price_e = [(EuroPut(20, 35, 0.05, 0.05, 0.25)), (EuroPut(20, 35, 0.1, 0.05, 0.5)), (EuroPut(20, 35, 0.15, 0.05, 0.75)),\n",
    "(EuroPut(20, 35, 0.2, 0.05, 1)), (EuroPut(20, 35, 0.25, 0.05, 1.25)), (EuroPut(20, 35, 0.3, 0.05, 1.5)), (EuroPut(20, 35, 0.35, 0.05, 1.2))]\n",
    "            \n",
    "            \n",
    "expiration=[0.25, 0.50, 0.75, 1.0, 1.25, 1.5, 2.0]    \n",
    "\n",
    "plt.plot(expiration, price_e)\n",
    "plt.title(\"The price of the put option for expiration\")\n",
    "plt.xlabel(\"expiration\")\n",
    "plt.ylabel(\"price\")\n",
    "plt.show()"
   ]
  },
  {
   "cell_type": "markdown",
   "metadata": {
    "ExecuteTime": {
     "end_time": "2022-08-09T02:40:26.444407Z",
     "start_time": "2022-08-09T02:40:26.435014Z"
    }
   },
   "source": [
    "### Imagine that the actual closing price of the option today is \\$14.25.  What value of volatility is implied given the price in the marketplace? (Hint, use your `EropeanPut` function to search for a value of `sigma` that makes the price equal to $\\$14.75 \\pm \\$0.005$ or less by trying different values of `sigma`.)"
   ]
  },
  {
   "cell_type": "code",
   "execution_count": 27,
   "metadata": {},
   "outputs": [
    {
     "data": {
      "text/plain": [
       "14.24996615668878"
      ]
     },
     "execution_count": 27,
     "metadata": {},
     "output_type": "execute_result"
    }
   ],
   "source": [
    "p = EuroPut(20,35,0.49,.05,1)\n",
    "p"
   ]
  },
  {
   "cell_type": "markdown",
   "metadata": {},
   "source": [
    "**sigma = 0.49 would be it. We can simply look at the graph and expiration = 0.49 seems to be approrpriate.**"
   ]
  },
  {
   "cell_type": "markdown",
   "metadata": {},
   "source": [
    "# <span style=\"font-family: Palatino; font-size: 30px; color:purple\"> How well does Black-Scholes predict?"
   ]
  },
  {
   "cell_type": "markdown",
   "metadata": {},
   "source": [
    "**Read in the file `SPX_put_X20210716.csv`** which contains several months of history for an option on the S&P500 index.  \n",
    "\n",
    "The terms of the option are:\n",
    "\n",
    "|                        |           |\n",
    "|------------------------|-----------|\n",
    "|current_price           | in `underlying_last`|\n",
    "|strike price            | \\$3685    |\n",
    "|expiration date         | 2021-07-16|\n",
    "|risk-free rate          |  0.0025 * |\n",
    "\n",
    "\\* the risk-free rate varies daily, but for convenience in this example we have set it to a constant value."
   ]
  },
  {
   "cell_type": "markdown",
   "metadata": {},
   "source": [
    "### Use your `EuroPut` function to price the option as of the first date in our data set (2021-06-21).  Use volatilities you calculated from that date back 30 days and 120 days."
   ]
  },
  {
   "cell_type": "code",
   "execution_count": 28,
   "metadata": {},
   "outputs": [
    {
     "data": {
      "text/html": [
       "<div>\n",
       "<style scoped>\n",
       "    .dataframe tbody tr th:only-of-type {\n",
       "        vertical-align: middle;\n",
       "    }\n",
       "\n",
       "    .dataframe tbody tr th {\n",
       "        vertical-align: top;\n",
       "    }\n",
       "\n",
       "    .dataframe thead th {\n",
       "        text-align: right;\n",
       "    }\n",
       "</style>\n",
       "<table border=\"1\" class=\"dataframe\">\n",
       "  <thead>\n",
       "    <tr style=\"text-align: right;\">\n",
       "      <th></th>\n",
       "      <th>Unnamed: 0</th>\n",
       "      <th>quote_unixtime</th>\n",
       "      <th>quote_readtime</th>\n",
       "      <th>quote_date</th>\n",
       "      <th>quote_time_hours</th>\n",
       "      <th>underlying_last</th>\n",
       "      <th>expire_date</th>\n",
       "      <th>expire_unix</th>\n",
       "      <th>strike</th>\n",
       "      <th>p_bid</th>\n",
       "      <th>p_ask</th>\n",
       "      <th>p_size</th>\n",
       "      <th>p_last</th>\n",
       "      <th>p_volume</th>\n",
       "      <th>strike_distance</th>\n",
       "      <th>strike_distance_pct</th>\n",
       "    </tr>\n",
       "  </thead>\n",
       "  <tbody>\n",
       "    <tr>\n",
       "      <th>0</th>\n",
       "      <td>108508</td>\n",
       "      <td>1624305600</td>\n",
       "      <td>2021-06-21 16:00</td>\n",
       "      <td>2021-06-21</td>\n",
       "      <td>16</td>\n",
       "      <td>4224.66</td>\n",
       "      <td>2021-07-16</td>\n",
       "      <td>1626465600</td>\n",
       "      <td>3685</td>\n",
       "      <td>5.09</td>\n",
       "      <td>5.30</td>\n",
       "      <td>923 x 811</td>\n",
       "      <td>0.0</td>\n",
       "      <td></td>\n",
       "      <td>539.7</td>\n",
       "      <td>0.128</td>\n",
       "    </tr>\n",
       "    <tr>\n",
       "      <th>1</th>\n",
       "      <td>116717</td>\n",
       "      <td>1624392000</td>\n",
       "      <td>2021-06-22 16:00</td>\n",
       "      <td>2021-06-22</td>\n",
       "      <td>16</td>\n",
       "      <td>4246.38</td>\n",
       "      <td>2021-07-16</td>\n",
       "      <td>1626465600</td>\n",
       "      <td>3685</td>\n",
       "      <td>3.90</td>\n",
       "      <td>4.09</td>\n",
       "      <td>1389 x 100</td>\n",
       "      <td>0.0</td>\n",
       "      <td></td>\n",
       "      <td>561.4</td>\n",
       "      <td>0.132</td>\n",
       "    </tr>\n",
       "    <tr>\n",
       "      <th>2</th>\n",
       "      <td>125088</td>\n",
       "      <td>1624478400</td>\n",
       "      <td>2021-06-23 16:00</td>\n",
       "      <td>2021-06-23</td>\n",
       "      <td>16</td>\n",
       "      <td>4241.83</td>\n",
       "      <td>2021-07-16</td>\n",
       "      <td>1626465600</td>\n",
       "      <td>3685</td>\n",
       "      <td>3.40</td>\n",
       "      <td>3.61</td>\n",
       "      <td>886 x 1621</td>\n",
       "      <td>0.0</td>\n",
       "      <td></td>\n",
       "      <td>556.8</td>\n",
       "      <td>0.131</td>\n",
       "    </tr>\n",
       "    <tr>\n",
       "      <th>3</th>\n",
       "      <td>133233</td>\n",
       "      <td>1624564800</td>\n",
       "      <td>2021-06-24 16:00</td>\n",
       "      <td>2021-06-24</td>\n",
       "      <td>16</td>\n",
       "      <td>4266.39</td>\n",
       "      <td>2021-07-16</td>\n",
       "      <td>1626465600</td>\n",
       "      <td>3685</td>\n",
       "      <td>2.85</td>\n",
       "      <td>3.00</td>\n",
       "      <td>106 x 1310</td>\n",
       "      <td>0.0</td>\n",
       "      <td></td>\n",
       "      <td>581.4</td>\n",
       "      <td>0.136</td>\n",
       "    </tr>\n",
       "    <tr>\n",
       "      <th>4</th>\n",
       "      <td>141537</td>\n",
       "      <td>1624651200</td>\n",
       "      <td>2021-06-25 16:00</td>\n",
       "      <td>2021-06-25</td>\n",
       "      <td>16</td>\n",
       "      <td>4280.68</td>\n",
       "      <td>2021-07-16</td>\n",
       "      <td>1626465600</td>\n",
       "      <td>3685</td>\n",
       "      <td>2.21</td>\n",
       "      <td>2.35</td>\n",
       "      <td>109 x 401</td>\n",
       "      <td>0.0</td>\n",
       "      <td></td>\n",
       "      <td>595.7</td>\n",
       "      <td>0.139</td>\n",
       "    </tr>\n",
       "  </tbody>\n",
       "</table>\n",
       "</div>"
      ],
      "text/plain": [
       "   Unnamed: 0  quote_unixtime     quote_readtime   quote_date  \\\n",
       "0      108508      1624305600   2021-06-21 16:00   2021-06-21   \n",
       "1      116717      1624392000   2021-06-22 16:00   2021-06-22   \n",
       "2      125088      1624478400   2021-06-23 16:00   2021-06-23   \n",
       "3      133233      1624564800   2021-06-24 16:00   2021-06-24   \n",
       "4      141537      1624651200   2021-06-25 16:00   2021-06-25   \n",
       "\n",
       "   quote_time_hours  underlying_last  expire_date  expire_unix  strike  p_bid  \\\n",
       "0                16          4224.66   2021-07-16   1626465600    3685   5.09   \n",
       "1                16          4246.38   2021-07-16   1626465600    3685   3.90   \n",
       "2                16          4241.83   2021-07-16   1626465600    3685   3.40   \n",
       "3                16          4266.39   2021-07-16   1626465600    3685   2.85   \n",
       "4                16          4280.68   2021-07-16   1626465600    3685   2.21   \n",
       "\n",
       "   p_ask       p_size  p_last p_volume  strike_distance  strike_distance_pct  \n",
       "0   5.30    923 x 811     0.0                     539.7                0.128  \n",
       "1   4.09   1389 x 100     0.0                     561.4                0.132  \n",
       "2   3.61   886 x 1621     0.0                     556.8                0.131  \n",
       "3   3.00   106 x 1310     0.0                     581.4                0.136  \n",
       "4   2.35    109 x 401     0.0                     595.7                0.139  "
      ]
     },
     "execution_count": 28,
     "metadata": {},
     "output_type": "execute_result"
    }
   ],
   "source": [
    "SPX_put.head()"
   ]
  },
  {
   "cell_type": "code",
   "execution_count": 29,
   "metadata": {},
   "outputs": [
    {
     "data": {
      "text/plain": [
       "0.006762959166845217"
      ]
     },
     "execution_count": 29,
     "metadata": {},
     "output_type": "execute_result"
    }
   ],
   "source": [
    "#30 days\n",
    "sigma = np.std(HW01_SPX[\"Return\"][5370:5400],  ddof=1 ) * np.sqrt(365)\n",
    "\n",
    "start = datetime(2021, 6, 21)\n",
    "end = datetime(2021, 7, 16)\n",
    "diff = end - start\n",
    "t = (diff.days + diff.seconds/86400)/365\n",
    "S = SPX_put[\"underlying_last\"][0]\n",
    "K = SPX_put[\"strike\"][0]\n",
    "r = 0.0025\n",
    "\n",
    "EuroPut(S, K, sigma, r, t)"
   ]
  },
  {
   "cell_type": "code",
   "execution_count": 30,
   "metadata": {},
   "outputs": [
    {
     "data": {
      "text/plain": [
       "0.03944987844840542"
      ]
     },
     "execution_count": 30,
     "metadata": {},
     "output_type": "execute_result"
    }
   ],
   "source": [
    "#90 days\n",
    "\n",
    "sigma = np.std(HW01_SPX[\"Return\"][5280:5401],  ddof=1 ) * np.sqrt(365)\n",
    "\n",
    "start = datetime(2021, 6, 21)\n",
    "end = datetime(2021, 7, 16)\n",
    "diff = end - start\n",
    "t = (diff.days + diff.seconds/86400)/365\n",
    "S = SPX_put[\"underlying_last\"][0]\n",
    "K = SPX_put[\"strike\"][0]\n",
    "r = 0.0025\n",
    "\n",
    "EuroPut(S, K, sigma, r, t)"
   ]
  },
  {
   "cell_type": "markdown",
   "metadata": {},
   "source": [
    "### Now write a short function to calculate the implied volatility for all of the options prices in the data set (you may assume that the data conventions are the same in both the SPX and SPX put option files):"
   ]
  },
  {
   "cell_type": "code",
   "execution_count": 39,
   "metadata": {},
   "outputs": [],
   "source": [
    "def IV(S,K,r,t,target_price,bound=.005):\n",
    "    vol = 0\n",
    "    call = EuroPut(S,K,vol,r,t) \n",
    "    step_size = 0.01 \n",
    "    if call > target_price + bound:\n",
    "        return\n",
    "    else:\n",
    "        while True: \n",
    "            next_price = EuroPut(S,K,step_size,r,t)\n",
    "            if next_price < target_price:\n",
    "                vol = vol + step_size\n",
    "            else:\n",
    "                high_vol = vol + step_size\n",
    "                vol_low = vol\n",
    "\n",
    "        while abs(target_price - call) > bound: \n",
    "            vol = (vol_up-vol_low)/2\n",
    "            p = EuroPut(S,K,vol,r,t)\n",
    "            if target_price - call > 0:\n",
    "                vol_low = vol\n",
    "            else:\n",
    "                vol_up = vol\n",
    "    return vol\n",
    "    "
   ]
  },
  {
   "cell_type": "code",
   "execution_count": 40,
   "metadata": {},
   "outputs": [
    {
     "name": "stdout",
     "output_type": "stream",
     "text": [
      "[1e-08, 1e-08, 1e-08, 1e-08, 1e-08, 1e-08, 1e-08, 0.33203126, 0.352734385, 0.3796875099999999, 0.44453125999999993, 0.4773437599999999, 0.4734375099999999, 0.45312500999999994, 0.6093750099999999, 0.69062501, 0.8531250099999999, 1.1812500100000003]\n"
     ]
    }
   ],
   "source": [
    "implied_vol = []\n",
    "\n",
    "K = 3685\n",
    "r = .0025\n",
    "end_date = datetime(2021,7,16)\n",
    "\n",
    "for i in range(len(SPX_put['p_last'])-1):\n",
    "    price = SPX_put['p_last'][i]\n",
    "    S = SPX_put['underlying_last'][i]\n",
    "    \n",
    "    t_str = SPX_put['quote_date'][i]\n",
    "    split = t_str.split('-')\n",
    "    split1 = list(map(int, split))\n",
    "    start_date = datetime(split1[0],split1[1],split1[2])\n",
    "    difference  = end_date - start_date\n",
    "    t = (difference.days + difference.seconds/86400)/365 #have to adjust for year\n",
    "    implied_vol.append(IV(S,K,r,t,price,bound=.005))\n",
    "print(implied_vol)"
   ]
  },
  {
   "cell_type": "markdown",
   "metadata": {},
   "source": [
    "This is the implied volatility results"
   ]
  },
  {
   "cell_type": "markdown",
   "metadata": {},
   "source": [
    "### Next calculate the _ratio_ of the implied volatility to the realized volatility at 120 days for all option prices in the options data and plot the distribution (don't worry about error trapping, etc.).\n"
   ]
  },
  {
   "cell_type": "code",
   "execution_count": 180,
   "metadata": {},
   "outputs": [],
   "source": [
    "for i in range(len(SPX_put['p_last'])-1):\n",
    "    S = SPX_put['underlying_last'][5401:5426]\n",
    "    price = SPX_put['p_last'][5401:5426]\n",
    "    op_prices.append(price)\n",
    "    \n",
    "    date_ind = HW01_SPX[\"Date\"][5401:5426]\n",
    "    real_vol.append((np.std(HW01_SPX[\"Return\"][5280:5400],  ddof=1 ))*np.sqrt(365))\n"
   ]
  },
  {
   "cell_type": "code",
   "execution_count": 362,
   "metadata": {},
   "outputs": [
    {
     "data": {
      "image/png": "[encoded data removed]",
      "text/plain": [
       "<Figure size 432x288 with 1 Axes>"
      ]
     },
     "metadata": {
      "needs_background": "light"
     },
     "output_type": "display_data"
    }
   ],
   "source": [
    "ratio = []\n",
    "for v in range(len(real_vol[1:19])):\n",
    "    ratio.append(imp_vol[v]/real_vol[v])\n",
    "plt.hist(ratio)\n",
    "plt.xlabel('Ratio of implied volatility divided by real volatility')\n",
    "plt.show()"
   ]
  },
  {
   "cell_type": "markdown",
   "metadata": {},
   "source": [
    "# <span style=\"font-family: Palatino; font-size: 24px; color:purple\">Some data financial data mining</span>\n"
   ]
  },
  {
   "cell_type": "markdown",
   "metadata": {},
   "source": [
    "## Now create a new data set for modeling (with lagged features)\n",
    "\n",
    "1. The data set should contain $R_t$ as well as all of the the original data from the the options data set _except_ for`underlying_last_t1`.  \n",
    "2. Next create a new variable, `underlying_last_t1` that contains all of the values of `underlying_last` shifted forward one day.  \n",
    "3. Example: The row of the final data set for the date 2021-06-28, would contain all of the data for 2021-06-28 (except that day's value of `underlying_last`), and also and _tomorrow's_ (2021-06-29) value of `underlying_last` which would be stored in the variable `underlying_last_t1` in the row for 2021-06-28."
   ]
  },
  {
   "cell_type": "code",
   "execution_count": 215,
   "metadata": {},
   "outputs": [
    {
     "data": {
      "text/html": [
       "<div>\n",
       "<style scoped>\n",
       "    .dataframe tbody tr th:only-of-type {\n",
       "        vertical-align: middle;\n",
       "    }\n",
       "\n",
       "    .dataframe tbody tr th {\n",
       "        vertical-align: top;\n",
       "    }\n",
       "\n",
       "    .dataframe thead th {\n",
       "        text-align: right;\n",
       "    }\n",
       "</style>\n",
       "<table border=\"1\" class=\"dataframe\">\n",
       "  <thead>\n",
       "    <tr style=\"text-align: right;\">\n",
       "      <th></th>\n",
       "      <th>Unnamed: 0</th>\n",
       "      <th>quote_unixtime</th>\n",
       "      <th>quote_readtime</th>\n",
       "      <th>quote_date</th>\n",
       "      <th>quote_time_hours</th>\n",
       "      <th>underlying_last</th>\n",
       "      <th>expire_date</th>\n",
       "      <th>expire_unix</th>\n",
       "      <th>strike</th>\n",
       "      <th>p_bid</th>\n",
       "      <th>p_ask</th>\n",
       "      <th>p_size</th>\n",
       "      <th>p_last</th>\n",
       "      <th>p_volume</th>\n",
       "      <th>strike_distance</th>\n",
       "      <th>strike_distance_pct</th>\n",
       "      <th>underlying_last_t1</th>\n",
       "    </tr>\n",
       "  </thead>\n",
       "  <tbody>\n",
       "    <tr>\n",
       "      <th>0</th>\n",
       "      <td>108508</td>\n",
       "      <td>1624305600</td>\n",
       "      <td>2021-06-21 16:00</td>\n",
       "      <td>2021-06-21</td>\n",
       "      <td>16</td>\n",
       "      <td>4224.66</td>\n",
       "      <td>2021-07-16</td>\n",
       "      <td>1626465600</td>\n",
       "      <td>3685</td>\n",
       "      <td>5.09</td>\n",
       "      <td>5.30</td>\n",
       "      <td>923 x 811</td>\n",
       "      <td>0.0</td>\n",
       "      <td></td>\n",
       "      <td>539.7</td>\n",
       "      <td>0.128</td>\n",
       "      <td>0.00</td>\n",
       "    </tr>\n",
       "    <tr>\n",
       "      <th>1</th>\n",
       "      <td>116717</td>\n",
       "      <td>1624392000</td>\n",
       "      <td>2021-06-22 16:00</td>\n",
       "      <td>2021-06-22</td>\n",
       "      <td>16</td>\n",
       "      <td>4246.38</td>\n",
       "      <td>2021-07-16</td>\n",
       "      <td>1626465600</td>\n",
       "      <td>3685</td>\n",
       "      <td>3.90</td>\n",
       "      <td>4.09</td>\n",
       "      <td>1389 x 100</td>\n",
       "      <td>0.0</td>\n",
       "      <td></td>\n",
       "      <td>561.4</td>\n",
       "      <td>0.132</td>\n",
       "      <td>4224.66</td>\n",
       "    </tr>\n",
       "    <tr>\n",
       "      <th>2</th>\n",
       "      <td>125088</td>\n",
       "      <td>1624478400</td>\n",
       "      <td>2021-06-23 16:00</td>\n",
       "      <td>2021-06-23</td>\n",
       "      <td>16</td>\n",
       "      <td>4241.83</td>\n",
       "      <td>2021-07-16</td>\n",
       "      <td>1626465600</td>\n",
       "      <td>3685</td>\n",
       "      <td>3.40</td>\n",
       "      <td>3.61</td>\n",
       "      <td>886 x 1621</td>\n",
       "      <td>0.0</td>\n",
       "      <td></td>\n",
       "      <td>556.8</td>\n",
       "      <td>0.131</td>\n",
       "      <td>4246.38</td>\n",
       "    </tr>\n",
       "    <tr>\n",
       "      <th>3</th>\n",
       "      <td>133233</td>\n",
       "      <td>1624564800</td>\n",
       "      <td>2021-06-24 16:00</td>\n",
       "      <td>2021-06-24</td>\n",
       "      <td>16</td>\n",
       "      <td>4266.39</td>\n",
       "      <td>2021-07-16</td>\n",
       "      <td>1626465600</td>\n",
       "      <td>3685</td>\n",
       "      <td>2.85</td>\n",
       "      <td>3.00</td>\n",
       "      <td>106 x 1310</td>\n",
       "      <td>0.0</td>\n",
       "      <td></td>\n",
       "      <td>581.4</td>\n",
       "      <td>0.136</td>\n",
       "      <td>4241.83</td>\n",
       "    </tr>\n",
       "    <tr>\n",
       "      <th>4</th>\n",
       "      <td>141537</td>\n",
       "      <td>1624651200</td>\n",
       "      <td>2021-06-25 16:00</td>\n",
       "      <td>2021-06-25</td>\n",
       "      <td>16</td>\n",
       "      <td>4280.68</td>\n",
       "      <td>2021-07-16</td>\n",
       "      <td>1626465600</td>\n",
       "      <td>3685</td>\n",
       "      <td>2.21</td>\n",
       "      <td>2.35</td>\n",
       "      <td>109 x 401</td>\n",
       "      <td>0.0</td>\n",
       "      <td></td>\n",
       "      <td>595.7</td>\n",
       "      <td>0.139</td>\n",
       "      <td>4266.39</td>\n",
       "    </tr>\n",
       "  </tbody>\n",
       "</table>\n",
       "</div>"
      ],
      "text/plain": [
       "   Unnamed: 0  quote_unixtime     quote_readtime   quote_date  \\\n",
       "0      108508      1624305600   2021-06-21 16:00   2021-06-21   \n",
       "1      116717      1624392000   2021-06-22 16:00   2021-06-22   \n",
       "2      125088      1624478400   2021-06-23 16:00   2021-06-23   \n",
       "3      133233      1624564800   2021-06-24 16:00   2021-06-24   \n",
       "4      141537      1624651200   2021-06-25 16:00   2021-06-25   \n",
       "\n",
       "   quote_time_hours  underlying_last  expire_date  expire_unix  strike  p_bid  \\\n",
       "0                16          4224.66   2021-07-16   1626465600    3685   5.09   \n",
       "1                16          4246.38   2021-07-16   1626465600    3685   3.90   \n",
       "2                16          4241.83   2021-07-16   1626465600    3685   3.40   \n",
       "3                16          4266.39   2021-07-16   1626465600    3685   2.85   \n",
       "4                16          4280.68   2021-07-16   1626465600    3685   2.21   \n",
       "\n",
       "   p_ask       p_size  p_last p_volume  strike_distance  strike_distance_pct  \\\n",
       "0   5.30    923 x 811     0.0                     539.7                0.128   \n",
       "1   4.09   1389 x 100     0.0                     561.4                0.132   \n",
       "2   3.61   886 x 1621     0.0                     556.8                0.131   \n",
       "3   3.00   106 x 1310     0.0                     581.4                0.136   \n",
       "4   2.35    109 x 401     0.0                     595.7                0.139   \n",
       "\n",
       "   underlying_last_t1  \n",
       "0                0.00  \n",
       "1             4224.66  \n",
       "2             4246.38  \n",
       "3             4241.83  \n",
       "4             4266.39  "
      ]
     },
     "execution_count": 215,
     "metadata": {},
     "output_type": "execute_result"
    }
   ],
   "source": [
    "SPX_put.head()"
   ]
  },
  {
   "cell_type": "code",
   "execution_count": 186,
   "metadata": {},
   "outputs": [],
   "source": [
    "SPX_put[\"underlying_last_t1\"] = SPX_put[\"underlying_last\"].shift(1)"
   ]
  },
  {
   "cell_type": "code",
   "execution_count": 214,
   "metadata": {},
   "outputs": [],
   "source": [
    "SPX_put['underlying_last_t1'] = SPX_put['underlying_last_t1'].fillna(0)"
   ]
  },
  {
   "cell_type": "markdown",
   "metadata": {},
   "source": [
    "## Use your new data set:  Build a (small!) decision tree classifier to predict whether the options price will rise or fall tomorrow, using any of the variables you like.  You may also include the current value of estimated volatility, if you would like.  Please show your results and discuss (1-2 paragraphs) your impressions.  Does the implied volatility provide any useful power?"
   ]
  },
  {
   "cell_type": "code",
   "execution_count": 287,
   "metadata": {},
   "outputs": [],
   "source": [
    "from sklearn.tree import DecisionTreeClassifier\n",
    "from sklearn.linear_model           import LogisticRegression# Import Decision Tree Classifier\n",
    "from sklearn.model_selection import train_test_split # Import train_test_split function\n",
    "from sklearn import metrics \n",
    "from sklearn import utils\n",
    "\n"
   ]
  },
  {
   "cell_type": "code",
   "execution_count": 323,
   "metadata": {},
   "outputs": [
    {
     "data": {
      "text/plain": [
       "Index(['Unnamed: 0', 'quote_unixtime', 'quote_readtime', 'quote_date',\n",
       "       'quote_time_hours', 'underlying_last', 'expire_date', 'expire_unix',\n",
       "       'strike', 'p_bid', 'p_ask', 'p_size', 'p_last', 'p_volume',\n",
       "       'strike_distance', 'strike_distance_pct', 'underlying_last_t1'],\n",
       "      dtype='object')"
      ]
     },
     "execution_count": 323,
     "metadata": {},
     "output_type": "execute_result"
    }
   ],
   "source": [
    "SPX_put.columns"
   ]
  },
  {
   "cell_type": "code",
   "execution_count": 330,
   "metadata": {},
   "outputs": [],
   "source": [
    "feature_cols = ['underlying_last',\n",
    "       'strike', 'p_bid', 'p_size', 'p_last',\n",
    "       'strike_distance', 'strike_distance_pct', 'underlying_last_t1']\n",
    "X = SPX_put[feature_cols]\n",
    "y = SPX_put.underlying_last"
   ]
  },
  {
   "cell_type": "code",
   "execution_count": 332,
   "metadata": {},
   "outputs": [],
   "source": [
    "X_train, X_test, y_train, y_test = train_test_split(X, y, test_size=0.3, random_state=1)\n"
   ]
  },
  {
   "cell_type": "code",
   "execution_count": 335,
   "metadata": {},
   "outputs": [
    {
     "data": {
      "text/plain": [
       "13"
      ]
     },
     "execution_count": 335,
     "metadata": {},
     "output_type": "execute_result"
    }
   ],
   "source": [
    "len(y_train)"
   ]
  },
  {
   "cell_type": "code",
   "execution_count": 343,
   "metadata": {},
   "outputs": [],
   "source": [
    "from sklearn import preprocessing\n",
    "label_encoder = preprocessing.LabelEncoder()\n",
    "train_Y = label_encoder.fit_transform(y_train)\n",
    "# train_X = label_encoder.fit_transform(X_train)\n",
    "test_Y = label_encoder.fit_transform(y_test)\n",
    "# test_X = label_encoder.fit_transform(X_test)\n"
   ]
  },
  {
   "cell_type": "code",
   "execution_count": 344,
   "metadata": {},
   "outputs": [],
   "source": [
    "# utils.multiclass.type_of_target(X_train)"
   ]
  },
  {
   "cell_type": "code",
   "execution_count": 348,
   "metadata": {},
   "outputs": [
    {
     "name": "stdout",
     "output_type": "stream",
     "text": [
      "Accuracy: 0.16666666666666666\n"
     ]
    }
   ],
   "source": [
    "clf = DecisionTreeClassifier()\n",
    "# clf.fit(X_train.values.reshape(-1, 1), y_train)\n",
    "clf.fit(train_X.reshape(-1, 1), train_Y)\n",
    "print(\"Accuracy:\", metrics.accuracy_score(test_Y, y_pred))"
   ]
  },
  {
   "cell_type": "markdown",
   "metadata": {},
   "source": [
    "**I first divided the data into 70 percent training and 30 percent testing. Not a very great decision tree. Implied volatility seems to have not helped in this case. I got an accuracy rate of 0.16666666666666666.**\n",
    "\n",
    "**In the future, we could use larger datasets. Since this was a smaller dataset, there could be missing vital innformation which could be helpful to make a better decision tree with high accuracy.**"
   ]
  },
  {
   "cell_type": "markdown",
   "metadata": {},
   "source": [
    "# Extra Credit* (not required)"
   ]
  },
  {
   "cell_type": "markdown",
   "metadata": {},
   "source": [
    "## Flexing with a larger data set"
   ]
  },
  {
   "cell_type": "markdown",
   "metadata": {},
   "source": [
    "If you are feeling ambitious, or you are just intrigued by this problem, you can load the data set: `HW01_SPX_2021_eod.txt` (tab delimited) which contains just under 1MM records, in the same format as the data you have been using (but there is now an extra column `p_iv` which contains the pre-computed implied volatility. In this case, I have only included records for which there was actually volume traded in the option on the date indicated.  (Why might this be a bad idea if we were trying to do this for real??)  Can you do better than Black-Scholes?  How would you test your model?"
   ]
  },
  {
   "cell_type": "code",
   "execution_count": 521,
   "metadata": {},
   "outputs": [
    {
     "name": "stdout",
     "output_type": "stream",
     "text": [
      "quote_unixtime\tquote_readtime\tquote_date\tquote_time_hours\tunderlying_last\texpire_date\texpire_unix\tstrike\tp_bid\tp_ask\tp_size\tp_last\tp_iv\tp_volume\tstrike_distance\tstrike_distance_pct\n",
      "\n",
      "1609794000\t 2021-01-04 16:00\t 2021-01-04\t16\t3701.38\t 2021-02-19\t1613768400\t100\t0\t0.04\t 0 x 296\t0\t2.83668\t \t3601.4\t0.973\n",
      "\n"
     ]
    }
   ],
   "source": [
    "f = open(\"HW01_SPX_2021_eod.txt\", \"r\")\n",
    "print(f.readline())\n",
    "print(f.readline())"
   ]
  },
  {
   "cell_type": "markdown",
   "metadata": {},
   "source": [
    "Implied volatility is just the market's forecast of a likely movement in security's price. It is used to outline future moves and supplies and demands. This provides insight into how the market thinnks about a stock movement. Since this volatility is forcasting, it's important to include records for volumes traded and not traded for possible comparison. It's basically leaving our vital information. In real life, there is so much uncertanity and chaos. Even working with finance math like this, investors don't even know how true the math is. But leaving out information such as no volume traded can cause bias and inaccurate. \n",
    "\n",
    "Yes, we can do better than black-scholes. Black-scholes assumes that the volaility is constant, while heston model allows stochastic volatility which allows for more flexibility and can perform better with data!"
   ]
  },
  {
   "cell_type": "code",
   "execution_count": null,
   "metadata": {},
   "outputs": [],
   "source": []
  }
 ],
 "metadata": {
  "kernelspec": {
   "display_name": "Python 3",
   "language": "python",
   "name": "python3"
  },
  "language_info": {
   "codemirror_mode": {
    "name": "ipython",
    "version": 3
   },
   "file_extension": ".py",
   "mimetype": "text/x-python",
   "name": "python",
   "nbconvert_exporter": "python",
   "pygments_lexer": "ipython3",
   "version": "3.7.3"
  },
  "latex_envs": {
   "LaTeX_envs_menu_present": true,
   "autoclose": false,
   "autocomplete": true,
   "bibliofile": "biblio.bib",
   "cite_by": "apalike",
   "current_citInitial": 1,
   "eqLabelWithNumbers": true,
   "eqNumInitial": 1,
   "hotkeys": {
    "equation": "Ctrl-E",
    "itemize": "Ctrl-I"
   },
   "labels_anchors": false,
   "latex_user_defs": false,
   "report_style_numbering": false,
   "user_envs_cfg": false
  },
  "toc": {
   "base_numbering": 1,
   "nav_menu": {},
   "number_sections": true,
   "sideBar": true,
   "skip_h1_title": false,
   "title_cell": "Table of Contents",
   "title_sidebar": "Contents",
   "toc_cell": false,
   "toc_position": {},
   "toc_section_display": true,
   "toc_window_display": false
  },
  "varInspector": {
   "cols": {
    "lenName": 16,
    "lenType": 16,
    "lenVar": 40
   },
   "kernels_config": {
    "python": {
     "delete_cmd_postfix": "",
     "delete_cmd_prefix": "del ",
     "library": "var_list.py",
     "varRefreshCmd": "print(var_dic_list())"
    },
    "r": {
     "delete_cmd_postfix": ") ",
     "delete_cmd_prefix": "rm(",
     "library": "var_list.r",
     "varRefreshCmd": "cat(var_dic_list()) "
    }
   },
   "types_to_exclude": [
    "module",
    "function",
    "builtin_function_or_method",
    "instance",
    "_Feature"
   ],
   "window_display": false
  }
 },
 "nbformat": 4,
 "nbformat_minor": 2
}
